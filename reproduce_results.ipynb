{
 "cells": [
  {
   "cell_type": "code",
   "execution_count": 26,
   "id": "fb321903",
   "metadata": {},
   "outputs": [],
   "source": [
    "import utils\n",
    "import os\n",
    "import pandas as pd\n",
    "import sklearn\n",
    "from sklearn import *\n",
    "import pickle\n",
    "import numpy as np"
   ]
  },
  {
   "cell_type": "markdown",
   "id": "8bb1b4e1-6265-4485-9d74-7e1ab3b19820",
   "metadata": {},
   "source": [
    "# Simple model (Count Vectorizer)"
   ]
  },
  {
   "cell_type": "code",
   "execution_count": 27,
   "id": "a7461b27",
   "metadata": {},
   "outputs": [],
   "source": [
    "path_folder_quora = \"./Datasets/QuoraQuestionPairs/\""
   ]
  },
  {
   "cell_type": "code",
   "execution_count": 28,
   "id": "83a84312-5a2d-4fd0-9af9-dca11f681eab",
   "metadata": {},
   "outputs": [
    {
     "name": "stdout",
     "output_type": "stream",
     "text": [
      "tr_df.shape= (291897, 6)\n",
      "va_df.shape= (15363, 6)\n",
      "te_df.shape= (16172, 6)\n"
     ]
    }
   ],
   "source": [
    "train_df = pd.read_csv(os.path.join(path_folder_quora, \"quora_train_data.csv\"))\n",
    "A_df, te_df = sklearn.model_selection.train_test_split(train_df,test_size=0.05,random_state=123)\n",
    "tr_df, va_df = sklearn.model_selection.train_test_split(A_df,test_size=0.05,random_state=123)\n",
    "print('tr_df.shape=',tr_df.shape)\n",
    "print('va_df.shape=',va_df.shape)\n",
    "print('te_df.shape=',te_df.shape)"
   ]
  },
  {
   "cell_type": "code",
   "execution_count": 29,
   "id": "387f8e4a",
   "metadata": {},
   "outputs": [],
   "source": [
    "q1_train =  utils.cast_list_as_strings(list(tr_df[\"question1\"]))\n",
    "q2_train =  utils.cast_list_as_strings(list(tr_df[\"question2\"]))\n",
    "q1_validation =  utils.cast_list_as_strings(list(va_df[\"question1\"]))\n",
    "q2_validation =  utils.cast_list_as_strings(list(va_df[\"question2\"]))\n",
    "q1_test = utils.cast_list_as_strings(list(te_df[\"question1\"]))\n",
    "q2_test = utils.cast_list_as_strings(list(te_df[\"question2\"]))"
   ]
  },
  {
   "cell_type": "code",
   "execution_count": 30,
   "id": "4d06d6f8",
   "metadata": {},
   "outputs": [],
   "source": [
    "count_vectorizer = pickle.load(open('model_artifacts/count_vectorizer.pkl', 'rb'))\n",
    "logistic = pickle.load(open('model_artifacts/logistic.pkl', 'rb'))"
   ]
  },
  {
   "cell_type": "code",
   "execution_count": 31,
   "id": "76472808",
   "metadata": {},
   "outputs": [
    {
     "data": {
      "text/plain": [
       "((291897, 149650),\n",
       " (291897, 6),\n",
       " (15363, 149650),\n",
       " (15363, 6),\n",
       " (16172, 149650),\n",
       " (16172, 6))"
      ]
     },
     "execution_count": 31,
     "metadata": {},
     "output_type": "execute_result"
    }
   ],
   "source": [
    "X_tr_q1q2 = utils.get_features_from_df(tr_df, count_vectorizer)\n",
    "X_va_q1q2 = utils.get_features_from_df(va_df, count_vectorizer)\n",
    "X_te_q1q2 = utils.get_features_from_df(te_df, count_vectorizer)\n",
    "\n",
    "X_tr_q1q2.shape, tr_df.shape, X_va_q1q2.shape, va_df.shape, X_te_q1q2.shape, te_df.shape"
   ]
  },
  {
   "cell_type": "code",
   "execution_count": 32,
   "id": "d1027939",
   "metadata": {},
   "outputs": [
    {
     "name": "stdout",
     "output_type": "stream",
     "text": [
      "Training AUC Score: 0.7874902327238901\n",
      "Validation AUC Score: 0.7202777566666142\n",
      "Test AUC Score: 0.7293595330779445\n"
     ]
    }
   ],
   "source": [
    "y_train = tr_df[\"is_duplicate\"].values\n",
    "y_validation = va_df[\"is_duplicate\"].values\n",
    "y_test = te_df[\"is_duplicate\"].values\n",
    "\n",
    "auc_tr = metrics.roc_auc_score(y_train, logistic.predict(X_tr_q1q2))\n",
    "auc_va = metrics.roc_auc_score(y_validation, logistic.predict(X_va_q1q2))\n",
    "auc_te = metrics.roc_auc_score(y_test, logistic.predict(X_te_q1q2))\n",
    "\n",
    "print('Training AUC Score: ' + str(auc_tr))\n",
    "print('Validation AUC Score: ' + str(auc_va))\n",
    "print('Test AUC Score: ' + str(auc_te))"
   ]
  },
  {
   "cell_type": "code",
   "execution_count": 33,
   "id": "15faaa08",
   "metadata": {},
   "outputs": [
    {
     "name": "stdout",
     "output_type": "stream",
     "text": [
      "              precision    recall  f1-score   support\n",
      "\n",
      "           0       0.83      0.89      0.86    184298\n",
      "           1       0.78      0.69      0.73    107599\n",
      "\n",
      "    accuracy                           0.81    291897\n",
      "   macro avg       0.81      0.79      0.79    291897\n",
      "weighted avg       0.81      0.81      0.81    291897\n",
      "\n"
     ]
    }
   ],
   "source": [
    "print(metrics.classification_report(y_train, logistic.predict(X_tr_q1q2)))"
   ]
  },
  {
   "cell_type": "code",
   "execution_count": 34,
   "id": "18e611d3",
   "metadata": {},
   "outputs": [
    {
     "name": "stdout",
     "output_type": "stream",
     "text": [
      "              precision    recall  f1-score   support\n",
      "\n",
      "           0       0.78      0.83      0.81      9696\n",
      "           1       0.68      0.61      0.64      5667\n",
      "\n",
      "    accuracy                           0.75     15363\n",
      "   macro avg       0.73      0.72      0.72     15363\n",
      "weighted avg       0.75      0.75      0.75     15363\n",
      "\n"
     ]
    }
   ],
   "source": [
    "print(metrics.classification_report(y_validation, logistic.predict(X_va_q1q2)))"
   ]
  },
  {
   "cell_type": "code",
   "execution_count": 35,
   "id": "96e867a8",
   "metadata": {},
   "outputs": [
    {
     "name": "stdout",
     "output_type": "stream",
     "text": [
      "              precision    recall  f1-score   support\n",
      "\n",
      "           0       0.79      0.84      0.81     10165\n",
      "           1       0.70      0.62      0.65      6007\n",
      "\n",
      "    accuracy                           0.76     16172\n",
      "   macro avg       0.74      0.73      0.73     16172\n",
      "weighted avg       0.75      0.76      0.75     16172\n",
      "\n"
     ]
    }
   ],
   "source": [
    "print(metrics.classification_report(y_test, logistic.predict(X_te_q1q2)))"
   ]
  },
  {
   "cell_type": "markdown",
   "id": "d4c41bd3-646d-4d1c-a342-7b2794512e3b",
   "metadata": {},
   "source": [
    "# Improved model"
   ]
  },
  {
   "cell_type": "code",
   "execution_count": 36,
   "id": "a6ee3886-7044-46ff-8b59-75bb2f2708f4",
   "metadata": {},
   "outputs": [],
   "source": [
    "path_folder_quora = \"./Datasets/QuoraQuestionPairs/\""
   ]
  },
  {
   "cell_type": "code",
   "execution_count": 37,
   "id": "4c3e0f4b-778a-4537-aded-c9832096e238",
   "metadata": {},
   "outputs": [
    {
     "name": "stdout",
     "output_type": "stream",
     "text": [
      "tr_df.shape= (291897, 6)\n",
      "va_df.shape= (15363, 6)\n",
      "te_df.shape= (16172, 6)\n"
     ]
    }
   ],
   "source": [
    "train_df = pd.read_csv(os.path.join(path_folder_quora, \"quora_train_data.csv\"))\n",
    "A_df, te_df = sklearn.model_selection.train_test_split(train_df,test_size=0.05,random_state=123)\n",
    "tr_df, va_df = sklearn.model_selection.train_test_split(A_df,test_size=0.05,random_state=123)\n",
    "print('tr_df.shape=',tr_df.shape)\n",
    "print('va_df.shape=',va_df.shape)\n",
    "print('te_df.shape=',te_df.shape)"
   ]
  },
  {
   "cell_type": "code",
   "execution_count": 38,
   "id": "dbe572f5-2192-491f-b6dc-d30457b2bb3a",
   "metadata": {},
   "outputs": [
    {
     "data": {
      "text/html": [
       "<div>\n",
       "<style scoped>\n",
       "    .dataframe tbody tr th:only-of-type {\n",
       "        vertical-align: middle;\n",
       "    }\n",
       "\n",
       "    .dataframe tbody tr th {\n",
       "        vertical-align: top;\n",
       "    }\n",
       "\n",
       "    .dataframe thead th {\n",
       "        text-align: right;\n",
       "    }\n",
       "</style>\n",
       "<table border=\"1\" class=\"dataframe\">\n",
       "  <thead>\n",
       "    <tr style=\"text-align: right;\">\n",
       "      <th></th>\n",
       "      <th>id</th>\n",
       "      <th>qid1</th>\n",
       "      <th>qid2</th>\n",
       "      <th>question1</th>\n",
       "      <th>question2</th>\n",
       "      <th>is_duplicate</th>\n",
       "    </tr>\n",
       "  </thead>\n",
       "  <tbody>\n",
       "    <tr>\n",
       "      <th>61482</th>\n",
       "      <td>125898</td>\n",
       "      <td>203030</td>\n",
       "      <td>203031</td>\n",
       "      <td>Is Java or C++ or C the most popular language ...</td>\n",
       "      <td>How do I develop a software which will have a ...</td>\n",
       "      <td>0</td>\n",
       "    </tr>\n",
       "    <tr>\n",
       "      <th>131546</th>\n",
       "      <td>36249</td>\n",
       "      <td>66113</td>\n",
       "      <td>66114</td>\n",
       "      <td>How do you convert direct speech into reported...</td>\n",
       "      <td>I feel weak at spoken English. I have sentence...</td>\n",
       "      <td>0</td>\n",
       "    </tr>\n",
       "    <tr>\n",
       "      <th>22927</th>\n",
       "      <td>199864</td>\n",
       "      <td>301469</td>\n",
       "      <td>301470</td>\n",
       "      <td>Where can I buy used wine barrels?</td>\n",
       "      <td>Where can you buy used wine barrels?</td>\n",
       "      <td>1</td>\n",
       "    </tr>\n",
       "    <tr>\n",
       "      <th>183520</th>\n",
       "      <td>277339</td>\n",
       "      <td>17728</td>\n",
       "      <td>138400</td>\n",
       "      <td>What was the best day of your life? (Excluding...</td>\n",
       "      <td>What is the Best Day of your life till date?</td>\n",
       "      <td>1</td>\n",
       "    </tr>\n",
       "    <tr>\n",
       "      <th>67694</th>\n",
       "      <td>392907</td>\n",
       "      <td>525647</td>\n",
       "      <td>525648</td>\n",
       "      <td>How is web-work.in works?</td>\n",
       "      <td>How do I get web designing work?</td>\n",
       "      <td>0</td>\n",
       "    </tr>\n",
       "  </tbody>\n",
       "</table>\n",
       "</div>"
      ],
      "text/plain": [
       "            id    qid1    qid2  \\\n",
       "61482   125898  203030  203031   \n",
       "131546   36249   66113   66114   \n",
       "22927   199864  301469  301470   \n",
       "183520  277339   17728  138400   \n",
       "67694   392907  525647  525648   \n",
       "\n",
       "                                                question1  \\\n",
       "61482   Is Java or C++ or C the most popular language ...   \n",
       "131546  How do you convert direct speech into reported...   \n",
       "22927                  Where can I buy used wine barrels?   \n",
       "183520  What was the best day of your life? (Excluding...   \n",
       "67694                           How is web-work.in works?   \n",
       "\n",
       "                                                question2  is_duplicate  \n",
       "61482   How do I develop a software which will have a ...             0  \n",
       "131546  I feel weak at spoken English. I have sentence...             0  \n",
       "22927                Where can you buy used wine barrels?             1  \n",
       "183520       What is the Best Day of your life till date?             1  \n",
       "67694                    How do I get web designing work?             0  "
      ]
     },
     "execution_count": 38,
     "metadata": {},
     "output_type": "execute_result"
    }
   ],
   "source": [
    "tr_df.head()"
   ]
  },
  {
   "cell_type": "markdown",
   "id": "8c6689a1-56e0-4aa6-9091-116993c5ab1a",
   "metadata": {},
   "source": [
    "## Preprocessing"
   ]
  },
  {
   "cell_type": "markdown",
   "id": "fb5340bf-1cc4-4610-83b7-997f89b416d1",
   "metadata": {},
   "source": [
    "First, a preprocessing is applied to the 2 questions: Casting it as strings, lowering and removing stop words. We also tokenize them."
   ]
  },
  {
   "cell_type": "code",
   "execution_count": 39,
   "id": "72c37849-cde7-43b9-8eb3-74ad6e3e8bf0",
   "metadata": {},
   "outputs": [],
   "source": [
    "#Cast\n",
    "q1_train_c =  utils.cast_list_as_strings(list(tr_df[\"question1\"]))\n",
    "q2_train_c =  utils.cast_list_as_strings(list(tr_df[\"question2\"]))\n",
    "q1_validation_c =  utils.cast_list_as_strings(list(va_df[\"question1\"]))\n",
    "q2_validation_c =  utils.cast_list_as_strings(list(va_df[\"question2\"]))\n",
    "q1_test_c =  utils.cast_list_as_strings(list(te_df[\"question1\"]))\n",
    "q2_test_c =  utils.cast_list_as_strings(list(te_df[\"question2\"]))"
   ]
  },
  {
   "cell_type": "code",
   "execution_count": 40,
   "id": "5c2d6f44-4a2a-4770-84b0-4ee812ca8465",
   "metadata": {},
   "outputs": [],
   "source": [
    "#Lower\n",
    "q1_train_lw = utils.lower_list(q1_train_c)\n",
    "q2_train_lw = utils.lower_list(q2_train_c)\n",
    "q1_validation_lw = utils.lower_list(q1_validation_c)\n",
    "q2_validation_lw = utils.lower_list(q2_validation_c)\n",
    "q1_test_lw = utils.lower_list(q1_test_c)\n",
    "q2_test_lw = utils.lower_list(q2_test_c)"
   ]
  },
  {
   "cell_type": "code",
   "execution_count": 41,
   "id": "985c78c5-fb1d-462e-ac8a-983390f241a2",
   "metadata": {},
   "outputs": [],
   "source": [
    "#Remove stop words\n",
    "stop_words = [\"a\", \"an\", \"the\", \"and\", \"but\", \"or\", \"in\", \"on\", \"at\", \"to\", \"of\", \"for\",\"i\",\"you\",\"he\",\"she\",\"it\",\"we\",\"they\",\n",
    "             \"me\",\"him\",\"her\",\"us\",\"them\",\"my\",\"your\",\"his\",\"its\",\"our\",\"their\",\"mine\",\"yours\",\"hers\",\"ours\",\"theirs\",\"myself\",\n",
    "              \"yourself\",\"himself\",\"herself\",\"itself\",\"ourselves\",\"yourselves\",\"themselves\",\"this\",\"that\",\"these\",\"those\"]\n",
    "q1_train = utils.remove_sw(q1_train_lw,stop_words)\n",
    "q2_train = utils.remove_sw(q2_train_lw,stop_words)\n",
    "q1_validation = utils.remove_sw(q1_validation_lw,stop_words)\n",
    "q2_validation = utils.remove_sw(q2_validation_lw,stop_words)\n",
    "q1_test = utils.remove_sw(q1_test_lw,stop_words)\n",
    "q2_test = utils.remove_sw(q2_test_lw,stop_words)"
   ]
  },
  {
   "cell_type": "code",
   "execution_count": 42,
   "id": "53e0d4de-b836-48c4-9651-e5d2ed6544a7",
   "metadata": {},
   "outputs": [],
   "source": [
    "#Tokenize\n",
    "q1_train_tokens = utils.tokenize(q1_train)\n",
    "q2_train_tokens = utils.tokenize(q2_train)\n",
    "q1_validation_tokens = utils.tokenize(q1_validation)\n",
    "q2_validation_tokens = utils.tokenize(q2_validation)\n",
    "q1_test_tokens = utils.tokenize(q1_test)\n",
    "q2_test_tokens = utils.tokenize(q2_test)"
   ]
  },
  {
   "cell_type": "markdown",
   "id": "7451da0a-a9b4-461f-8aee-d9b7cba46acb",
   "metadata": {},
   "source": [
    "## Jaccard distance at sentence level"
   ]
  },
  {
   "cell_type": "code",
   "execution_count": 43,
   "id": "41c252ca-9651-4565-9162-b20635c73922",
   "metadata": {},
   "outputs": [],
   "source": [
    "jd_feature_train = utils.generate_jd_feature(q1_train_tokens,q2_train_tokens)\n",
    "jd_feature_val = utils.generate_jd_feature(q1_validation_tokens,q2_validation_tokens)\n",
    "jd_feature_test = utils.generate_jd_feature(q1_test_tokens,q2_test_tokens)"
   ]
  },
  {
   "cell_type": "code",
   "execution_count": 44,
   "id": "66ade83a-bc96-4437-b392-d04c7267f46a",
   "metadata": {},
   "outputs": [],
   "source": [
    "jd_feature_train = np.array(jd_feature_train).reshape(-1,1)\n",
    "jd_feature_val = np.array(jd_feature_val).reshape(-1,1)\n",
    "jd_feature_test = np.array(jd_feature_test).reshape(-1,1)"
   ]
  },
  {
   "cell_type": "markdown",
   "id": "48e3f8c4-708f-4333-a2a8-a14bc56afc39",
   "metadata": {},
   "source": [
    "## Evaluation of the logistic model"
   ]
  },
  {
   "cell_type": "code",
   "execution_count": 45,
   "id": "f9c78962-caf9-4dee-aab4-b3b0f766b289",
   "metadata": {},
   "outputs": [],
   "source": [
    "#Concatenate here all your features, bros\n",
    "X_tr = jd_feature_train\n",
    "X_va = jd_feature_val\n",
    "X_te = jd_feature_test"
   ]
  },
  {
   "cell_type": "code",
   "execution_count": 46,
   "id": "99c67a3d-dcbb-4180-af59-62c246578c9b",
   "metadata": {},
   "outputs": [],
   "source": [
    "logistic_imp = pickle.load(open('model_artifacts/logistic_imp.pkl', 'rb'))"
   ]
  },
  {
   "cell_type": "code",
   "execution_count": 47,
   "id": "92b8f1e8-09d4-49c9-8cce-e91107dc4213",
   "metadata": {},
   "outputs": [
    {
     "name": "stdout",
     "output_type": "stream",
     "text": [
      "Training AUC Score: 0.5813001290293094\n",
      "Validation AUC Score: 0.5812464675199654\n",
      "Test AUC Score: 0.5785385979023816\n"
     ]
    }
   ],
   "source": [
    "y_train = tr_df[\"is_duplicate\"].values\n",
    "y_validation = va_df[\"is_duplicate\"].values\n",
    "y_test = te_df[\"is_duplicate\"].values\n",
    "\n",
    "auc_tr = metrics.roc_auc_score(y_train, logistic_imp.predict(X_tr))\n",
    "auc_va = metrics.roc_auc_score(y_validation, logistic_imp.predict(X_va))\n",
    "auc_te = metrics.roc_auc_score(y_test, logistic_imp.predict(X_te))\n",
    "\n",
    "print('Training AUC Score: ' + str(auc_tr))\n",
    "print('Validation AUC Score: ' + str(auc_va))\n",
    "print('Test AUC Score: ' + str(auc_te))"
   ]
  },
  {
   "cell_type": "code",
   "execution_count": 48,
   "id": "3a022d4f-4817-4d57-89f4-572ca8b8d8d5",
   "metadata": {},
   "outputs": [
    {
     "name": "stdout",
     "output_type": "stream",
     "text": [
      "              precision    recall  f1-score   support\n",
      "\n",
      "           0       0.68      0.82      0.75    184298\n",
      "           1       0.53      0.34      0.41    107599\n",
      "\n",
      "    accuracy                           0.64    291897\n",
      "   macro avg       0.60      0.58      0.58    291897\n",
      "weighted avg       0.62      0.64      0.62    291897\n",
      "\n"
     ]
    }
   ],
   "source": [
    "print(metrics.classification_report(y_train, logistic_imp.predict(X_tr)))"
   ]
  },
  {
   "cell_type": "code",
   "execution_count": 49,
   "id": "456837c6-5cba-4d74-8f4f-6ee490ab156e",
   "metadata": {},
   "outputs": [
    {
     "name": "stdout",
     "output_type": "stream",
     "text": [
      "              precision    recall  f1-score   support\n",
      "\n",
      "           0       0.68      0.83      0.75      9696\n",
      "           1       0.53      0.34      0.41      5667\n",
      "\n",
      "    accuracy                           0.65     15363\n",
      "   macro avg       0.61      0.58      0.58     15363\n",
      "weighted avg       0.63      0.65      0.62     15363\n",
      "\n"
     ]
    }
   ],
   "source": [
    "print(metrics.classification_report(y_validation, logistic_imp.predict(X_va)))"
   ]
  },
  {
   "cell_type": "code",
   "execution_count": 50,
   "id": "46788305-cd8b-4dca-af82-673e30ceb0e5",
   "metadata": {},
   "outputs": [
    {
     "name": "stdout",
     "output_type": "stream",
     "text": [
      "              precision    recall  f1-score   support\n",
      "\n",
      "           0       0.68      0.82      0.74     10165\n",
      "           1       0.53      0.34      0.41      6007\n",
      "\n",
      "    accuracy                           0.64     16172\n",
      "   macro avg       0.60      0.58      0.58     16172\n",
      "weighted avg       0.62      0.64      0.62     16172\n",
      "\n"
     ]
    }
   ],
   "source": [
    "print(metrics.classification_report(y_test, logistic_imp.predict(X_te)))"
   ]
  },
  {
   "cell_type": "markdown",
   "id": "f3292716-6c9e-4636-a67b-698db1c34a32",
   "metadata": {},
   "source": []
  }
 ],
 "metadata": {
  "kernelspec": {
   "display_name": "Python 3 (ipykernel)",
   "language": "python",
   "name": "python3"
  },
  "language_info": {
   "codemirror_mode": {
    "name": "ipython",
    "version": 3
   },
   "file_extension": ".py",
   "mimetype": "text/x-python",
   "name": "python",
   "nbconvert_exporter": "python",
   "pygments_lexer": "ipython3",
   "version": "3.9.16"
  }
 },
 "nbformat": 4,
 "nbformat_minor": 5
}
