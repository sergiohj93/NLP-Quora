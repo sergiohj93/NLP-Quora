{
 "cells": [
  {
   "cell_type": "code",
   "execution_count": 1,
   "id": "fb321903",
   "metadata": {},
   "outputs": [],
   "source": [
    "from utils import *\n",
    "import os\n",
    "import pandas as pd\n",
    "import sklearn\n",
    "from sklearn import *\n",
    "import pickle"
   ]
  },
  {
   "cell_type": "code",
   "execution_count": 2,
   "id": "a7461b27",
   "metadata": {},
   "outputs": [],
   "source": [
    "path_folder_quora = \"./Datasets/QuoraQuestionPairs/\""
   ]
  },
  {
   "cell_type": "code",
   "execution_count": 3,
   "id": "83a84312-5a2d-4fd0-9af9-dca11f681eab",
   "metadata": {},
   "outputs": [
    {
     "name": "stdout",
     "output_type": "stream",
     "text": [
      "tr_df.shape= (291897, 6)\n",
      "va_df.shape= (15363, 6)\n",
      "te_df.shape= (16172, 6)\n"
     ]
    }
   ],
   "source": [
    "train_df = pd.read_csv(os.path.join(path_folder_quora, \"quora_train_data.csv\"))\n",
    "A_df, te_df = sklearn.model_selection.train_test_split(train_df,test_size=0.05,random_state=123)\n",
    "tr_df, va_df = sklearn.model_selection.train_test_split(A_df,test_size=0.05,random_state=123)\n",
    "print('tr_df.shape=',tr_df.shape)\n",
    "print('va_df.shape=',va_df.shape)\n",
    "print('te_df.shape=',te_df.shape)"
   ]
  },
  {
   "cell_type": "code",
   "execution_count": 4,
   "id": "387f8e4a",
   "metadata": {},
   "outputs": [],
   "source": [
    "q1_train =  cast_list_as_strings(list(tr_df[\"question1\"]))\n",
    "q2_train =  cast_list_as_strings(list(tr_df[\"question2\"]))\n",
    "q1_validation =  cast_list_as_strings(list(va_df[\"question1\"]))\n",
    "q2_validation =  cast_list_as_strings(list(va_df[\"question2\"]))\n",
    "q1_test = cast_list_as_strings(list(te_df[\"question1\"]))\n",
    "q2_test = cast_list_as_strings(list(te_df[\"question2\"]))"
   ]
  },
  {
   "cell_type": "code",
   "execution_count": 5,
   "id": "4d06d6f8",
   "metadata": {},
   "outputs": [],
   "source": [
    "count_vectorizer = pickle.load(open('model_artifacts/count_vectorizer.pkl', 'rb'))\n",
    "logistic = pickle.load(open('model_artifacts/logistic.pkl', 'rb'))"
   ]
  },
  {
   "cell_type": "code",
   "execution_count": 6,
   "id": "76472808",
   "metadata": {},
   "outputs": [
    {
     "data": {
      "text/plain": [
       "((291897, 149650),\n",
       " (291897, 6),\n",
       " (15363, 149650),\n",
       " (15363, 6),\n",
       " (16172, 149650),\n",
       " (16172, 6))"
      ]
     },
     "execution_count": 6,
     "metadata": {},
     "output_type": "execute_result"
    }
   ],
   "source": [
    "X_tr_q1q2 = get_features_from_df(tr_df, count_vectorizer)\n",
    "X_va_q1q2 = get_features_from_df(va_df, count_vectorizer)\n",
    "X_te_q1q2 = get_features_from_df(te_df, count_vectorizer)\n",
    "\n",
    "X_tr_q1q2.shape, tr_df.shape, X_va_q1q2.shape, va_df.shape, X_te_q1q2.shape, te_df.shape"
   ]
  },
  {
   "cell_type": "code",
   "execution_count": 7,
   "id": "d1027939",
   "metadata": {},
   "outputs": [
    {
     "name": "stdout",
     "output_type": "stream",
     "text": [
      "Training AUC Score: 0.7874902327238901\n",
      "Validation AUC Score: 0.7202777566666142\n",
      "Test AUC Score: 0.7293595330779445\n"
     ]
    }
   ],
   "source": [
    "y_train = tr_df[\"is_duplicate\"].values\n",
    "y_validation = va_df[\"is_duplicate\"].values\n",
    "y_test = te_df[\"is_duplicate\"].values\n",
    "\n",
    "auc_tr = metrics.roc_auc_score(y_train, logistic.predict(X_tr_q1q2))\n",
    "auc_va = metrics.roc_auc_score(y_validation, logistic.predict(X_va_q1q2))\n",
    "auc_te = metrics.roc_auc_score(y_test, logistic.predict(X_te_q1q2))\n",
    "\n",
    "print('Training AUC Score: ' + str(auc_tr))\n",
    "print('Validation AUC Score: ' + str(auc_va))\n",
    "print('Test AUC Score: ' + str(auc_te))"
   ]
  },
  {
   "cell_type": "code",
   "execution_count": 8,
   "id": "15faaa08",
   "metadata": {},
   "outputs": [
    {
     "name": "stdout",
     "output_type": "stream",
     "text": [
      "              precision    recall  f1-score   support\n",
      "\n",
      "           0       0.83      0.89      0.86    184298\n",
      "           1       0.78      0.69      0.73    107599\n",
      "\n",
      "    accuracy                           0.81    291897\n",
      "   macro avg       0.81      0.79      0.79    291897\n",
      "weighted avg       0.81      0.81      0.81    291897\n",
      "\n"
     ]
    }
   ],
   "source": [
    "print(metrics.classification_report(y_train, logistic.predict(X_tr_q1q2)))"
   ]
  },
  {
   "cell_type": "code",
   "execution_count": 9,
   "id": "18e611d3",
   "metadata": {},
   "outputs": [
    {
     "name": "stdout",
     "output_type": "stream",
     "text": [
      "              precision    recall  f1-score   support\n",
      "\n",
      "           0       0.78      0.83      0.81      9696\n",
      "           1       0.68      0.61      0.64      5667\n",
      "\n",
      "    accuracy                           0.75     15363\n",
      "   macro avg       0.73      0.72      0.72     15363\n",
      "weighted avg       0.75      0.75      0.75     15363\n",
      "\n"
     ]
    }
   ],
   "source": [
    "print(metrics.classification_report(y_validation, logistic.predict(X_va_q1q2)))"
   ]
  },
  {
   "cell_type": "code",
   "execution_count": 10,
   "id": "96e867a8",
   "metadata": {},
   "outputs": [
    {
     "name": "stdout",
     "output_type": "stream",
     "text": [
      "              precision    recall  f1-score   support\n",
      "\n",
      "           0       0.79      0.84      0.81     10165\n",
      "           1       0.70      0.62      0.65      6007\n",
      "\n",
      "    accuracy                           0.76     16172\n",
      "   macro avg       0.74      0.73      0.73     16172\n",
      "weighted avg       0.75      0.76      0.75     16172\n",
      "\n"
     ]
    }
   ],
   "source": [
    "print(metrics.classification_report(y_test, logistic.predict(X_te_q1q2)))"
   ]
  },
  {
   "cell_type": "code",
   "execution_count": null,
   "id": "f8d4629f",
   "metadata": {},
   "outputs": [],
   "source": []
  }
 ],
 "metadata": {
  "kernelspec": {
   "display_name": "Python 3 (ipykernel)",
   "language": "python",
   "name": "python3"
  },
  "language_info": {
   "codemirror_mode": {
    "name": "ipython",
    "version": 3
   },
   "file_extension": ".py",
   "mimetype": "text/x-python",
   "name": "python",
   "nbconvert_exporter": "python",
   "pygments_lexer": "ipython3",
   "version": "3.9.16"
  }
 },
 "nbformat": 4,
 "nbformat_minor": 5
}
