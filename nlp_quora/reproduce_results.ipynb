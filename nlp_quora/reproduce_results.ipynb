{
 "cells": [
  {
   "cell_type": "code",
   "execution_count": 1,
   "id": "fb321903",
   "metadata": {},
   "outputs": [],
   "source": [
    "import utils\n",
    "import os\n",
    "import pandas as pd\n",
    "import sklearn\n",
    "from sklearn import *\n",
    "import os\n",
    "import pickle\n",
    "import numpy as np\n",
    "import scipy\n",
    "from gensim.models import KeyedVectors"
   ]
  },
  {
   "cell_type": "markdown",
   "id": "8bb1b4e1-6265-4485-9d74-7e1ab3b19820",
   "metadata": {},
   "source": [
    "# Simple model (Count Vectorizer)"
   ]
  },
  {
   "cell_type": "code",
   "execution_count": 2,
   "id": "a7461b27",
   "metadata": {},
   "outputs": [],
   "source": [
    "par_dir = os.path.normpath(os.path.join(os.getcwd(), os.pardir))\n",
    "data_dir = \"/nlp_quora/Datasets/QuoraQuestionPairs/\"\n",
    "path_folder_quora = f\"{par_dir}{data_dir}\""
   ]
  },
  {
   "cell_type": "code",
   "execution_count": 3,
   "id": "83a84312-5a2d-4fd0-9af9-dca11f681eab",
   "metadata": {},
   "outputs": [
    {
     "name": "stdout",
     "output_type": "stream",
     "text": [
      "tr_df.shape= (291897, 6)\n",
      "va_df.shape= (15363, 6)\n",
      "te_df.shape= (16172, 6)\n"
     ]
    }
   ],
   "source": [
    "train_df = pd.read_csv(os.path.join(path_folder_quora, \"quora_train_data.csv\"))\n",
    "A_df, te_df = sklearn.model_selection.train_test_split(train_df,test_size=0.05,random_state=123)\n",
    "tr_df, va_df = sklearn.model_selection.train_test_split(A_df,test_size=0.05,random_state=123)\n",
    "print('tr_df.shape=',tr_df.shape)\n",
    "print('va_df.shape=',va_df.shape)\n",
    "print('te_df.shape=',te_df.shape)"
   ]
  },
  {
   "cell_type": "code",
   "execution_count": 4,
   "id": "387f8e4a",
   "metadata": {},
   "outputs": [],
   "source": [
    "q1_train =  utils.cast_list_as_strings(list(tr_df[\"question1\"]))\n",
    "q2_train =  utils.cast_list_as_strings(list(tr_df[\"question2\"]))\n",
    "q1_validation =  utils.cast_list_as_strings(list(va_df[\"question1\"]))\n",
    "q2_validation =  utils.cast_list_as_strings(list(va_df[\"question2\"]))\n",
    "q1_test = utils.cast_list_as_strings(list(te_df[\"question1\"]))\n",
    "q2_test = utils.cast_list_as_strings(list(te_df[\"question2\"]))"
   ]
  },
  {
   "cell_type": "code",
   "execution_count": 8,
   "id": "d0fa5841",
   "metadata": {},
   "outputs": [],
   "source": [
    "par_dir = os.path.normpath(os.path.join(os.getcwd(), os.pardir))\n",
    "models_dir = \"/nlp_quora/model_artifacts/\"\n",
    "models_dir_quora = f\"{par_dir}{models_dir}\""
   ]
  },
  {
   "cell_type": "code",
   "execution_count": 6,
   "id": "4d06d6f8",
   "metadata": {},
   "outputs": [],
   "source": [
    "count_vectorizer = pickle.load(open(f'{models_dir_quora}/count_vectorizer.pkl', 'rb'))\n",
    "logistic = pickle.load(open(f'{models_dir_quora}/logistic.pkl', 'rb'))"
   ]
  },
  {
   "cell_type": "code",
   "execution_count": 6,
   "id": "76472808",
   "metadata": {},
   "outputs": [
    {
     "data": {
      "text/plain": [
       "((291897, 149650),\n",
       " (291897, 6),\n",
       " (15363, 149650),\n",
       " (15363, 6),\n",
       " (16172, 149650),\n",
       " (16172, 6))"
      ]
     },
     "execution_count": 6,
     "metadata": {},
     "output_type": "execute_result"
    }
   ],
   "source": [
    "X_tr_q1q2 = utils.get_features_from_df(tr_df, count_vectorizer)\n",
    "X_va_q1q2 = utils.get_features_from_df(va_df, count_vectorizer)\n",
    "X_te_q1q2 = utils.get_features_from_df(te_df, count_vectorizer)\n",
    "\n",
    "X_tr_q1q2.shape, tr_df.shape, X_va_q1q2.shape, va_df.shape, X_te_q1q2.shape, te_df.shape"
   ]
  },
  {
   "cell_type": "code",
   "execution_count": 7,
   "id": "0e153fc3-7d55-47db-9cab-7f827fe43a6c",
   "metadata": {},
   "outputs": [],
   "source": [
    "y_train = tr_df[\"is_duplicate\"].values\n",
    "y_validation = va_df[\"is_duplicate\"].values\n",
    "y_test = te_df[\"is_duplicate\"].values"
   ]
  },
  {
   "cell_type": "code",
   "execution_count": 8,
   "id": "32428da0-751c-44b9-9454-bc13ce45ce10",
   "metadata": {},
   "outputs": [],
   "source": [
    "simple_model_metrics = np.zeros((3,5))\n",
    "simple_model_metrics[0,:] = utils.calculate_metrics(y_train,X_tr_q1q2,logistic)\n",
    "simple_model_metrics[1,:] = utils.calculate_metrics(y_validation,X_va_q1q2,logistic)\n",
    "simple_model_metrics[2,:] = utils.calculate_metrics(y_test,X_te_q1q2,logistic)"
   ]
  },
  {
   "cell_type": "code",
   "execution_count": 9,
   "id": "b271776c-8c06-4256-904a-592968c88045",
   "metadata": {},
   "outputs": [
    {
     "data": {
      "text/html": [
       "<div>\n",
       "<style scoped>\n",
       "    .dataframe tbody tr th:only-of-type {\n",
       "        vertical-align: middle;\n",
       "    }\n",
       "\n",
       "    .dataframe tbody tr th {\n",
       "        vertical-align: top;\n",
       "    }\n",
       "\n",
       "    .dataframe thead th {\n",
       "        text-align: right;\n",
       "    }\n",
       "</style>\n",
       "<table border=\"1\" class=\"dataframe\">\n",
       "  <thead>\n",
       "    <tr style=\"text-align: right;\">\n",
       "      <th></th>\n",
       "      <th>Roc auc</th>\n",
       "      <th>Accuracy</th>\n",
       "      <th>Precision</th>\n",
       "      <th>Recall</th>\n",
       "      <th>f1 score</th>\n",
       "    </tr>\n",
       "  </thead>\n",
       "  <tbody>\n",
       "    <tr>\n",
       "      <th>Train</th>\n",
       "      <td>0.787490</td>\n",
       "      <td>0.813972</td>\n",
       "      <td>0.782060</td>\n",
       "      <td>0.686707</td>\n",
       "      <td>0.731288</td>\n",
       "    </tr>\n",
       "    <tr>\n",
       "      <th>Val.</th>\n",
       "      <td>0.720278</td>\n",
       "      <td>0.749007</td>\n",
       "      <td>0.677167</td>\n",
       "      <td>0.610729</td>\n",
       "      <td>0.642234</td>\n",
       "    </tr>\n",
       "    <tr>\n",
       "      <th>Test</th>\n",
       "      <td>0.729360</td>\n",
       "      <td>0.757791</td>\n",
       "      <td>0.695546</td>\n",
       "      <td>0.618778</td>\n",
       "      <td>0.654920</td>\n",
       "    </tr>\n",
       "  </tbody>\n",
       "</table>\n",
       "</div>"
      ],
      "text/plain": [
       "        Roc auc  Accuracy  Precision    Recall  f1 score\n",
       "Train  0.787490  0.813972   0.782060  0.686707  0.731288\n",
       "Val.   0.720278  0.749007   0.677167  0.610729  0.642234\n",
       "Test   0.729360  0.757791   0.695546  0.618778  0.654920"
      ]
     },
     "execution_count": 9,
     "metadata": {},
     "output_type": "execute_result"
    }
   ],
   "source": [
    "rows = [\"Train\",\"Val.\",\"Test\"]\n",
    "columns = [\"Roc auc\",\"Accuracy\",\"Precision\",\"Recall\",\"f1 score\"]\n",
    "simple_model_df = pd.DataFrame(simple_model_metrics,rows,columns)\n",
    "simple_model_df"
   ]
  },
  {
   "cell_type": "markdown",
   "id": "d4c41bd3-646d-4d1c-a342-7b2794512e3b",
   "metadata": {},
   "source": [
    "# Improved model"
   ]
  },
  {
   "cell_type": "code",
   "execution_count": 10,
   "id": "a6ee3886-7044-46ff-8b59-75bb2f2708f4",
   "metadata": {},
   "outputs": [],
   "source": [
    "par_dir = os.path.normpath(os.path.join(os.getcwd(), os.pardir))\n",
    "data_dir = \"/Datasets/QuoraQuestionPairs/\"\n",
    "path_folder_quora = f\"{par_dir}{data_dir}\""
   ]
  },
  {
   "cell_type": "code",
   "execution_count": 11,
   "id": "4c3e0f4b-778a-4537-aded-c9832096e238",
   "metadata": {},
   "outputs": [
    {
     "name": "stdout",
     "output_type": "stream",
     "text": [
      "tr_df.shape= (291897, 6)\n",
      "va_df.shape= (15363, 6)\n",
      "te_df.shape= (16172, 6)\n"
     ]
    }
   ],
   "source": [
    "train_df = pd.read_csv(os.path.join(path_folder_quora, \"quora_train_data.csv\"))\n",
    "A_df, te_df = sklearn.model_selection.train_test_split(train_df,test_size=0.05,random_state=123)\n",
    "tr_df, va_df = sklearn.model_selection.train_test_split(A_df,test_size=0.05,random_state=123)\n",
    "print('tr_df.shape=',tr_df.shape)\n",
    "print('va_df.shape=',va_df.shape)\n",
    "print('te_df.shape=',te_df.shape)"
   ]
  },
  {
   "cell_type": "code",
   "execution_count": 12,
   "id": "dbe572f5-2192-491f-b6dc-d30457b2bb3a",
   "metadata": {},
   "outputs": [
    {
     "data": {
      "text/html": [
       "<div>\n",
       "<style scoped>\n",
       "    .dataframe tbody tr th:only-of-type {\n",
       "        vertical-align: middle;\n",
       "    }\n",
       "\n",
       "    .dataframe tbody tr th {\n",
       "        vertical-align: top;\n",
       "    }\n",
       "\n",
       "    .dataframe thead th {\n",
       "        text-align: right;\n",
       "    }\n",
       "</style>\n",
       "<table border=\"1\" class=\"dataframe\">\n",
       "  <thead>\n",
       "    <tr style=\"text-align: right;\">\n",
       "      <th></th>\n",
       "      <th>id</th>\n",
       "      <th>qid1</th>\n",
       "      <th>qid2</th>\n",
       "      <th>question1</th>\n",
       "      <th>question2</th>\n",
       "      <th>is_duplicate</th>\n",
       "    </tr>\n",
       "  </thead>\n",
       "  <tbody>\n",
       "    <tr>\n",
       "      <th>61482</th>\n",
       "      <td>125898</td>\n",
       "      <td>203030</td>\n",
       "      <td>203031</td>\n",
       "      <td>Is Java or C++ or C the most popular language ...</td>\n",
       "      <td>How do I develop a software which will have a ...</td>\n",
       "      <td>0</td>\n",
       "    </tr>\n",
       "    <tr>\n",
       "      <th>131546</th>\n",
       "      <td>36249</td>\n",
       "      <td>66113</td>\n",
       "      <td>66114</td>\n",
       "      <td>How do you convert direct speech into reported...</td>\n",
       "      <td>I feel weak at spoken English. I have sentence...</td>\n",
       "      <td>0</td>\n",
       "    </tr>\n",
       "    <tr>\n",
       "      <th>22927</th>\n",
       "      <td>199864</td>\n",
       "      <td>301469</td>\n",
       "      <td>301470</td>\n",
       "      <td>Where can I buy used wine barrels?</td>\n",
       "      <td>Where can you buy used wine barrels?</td>\n",
       "      <td>1</td>\n",
       "    </tr>\n",
       "    <tr>\n",
       "      <th>183520</th>\n",
       "      <td>277339</td>\n",
       "      <td>17728</td>\n",
       "      <td>138400</td>\n",
       "      <td>What was the best day of your life? (Excluding...</td>\n",
       "      <td>What is the Best Day of your life till date?</td>\n",
       "      <td>1</td>\n",
       "    </tr>\n",
       "    <tr>\n",
       "      <th>67694</th>\n",
       "      <td>392907</td>\n",
       "      <td>525647</td>\n",
       "      <td>525648</td>\n",
       "      <td>How is web-work.in works?</td>\n",
       "      <td>How do I get web designing work?</td>\n",
       "      <td>0</td>\n",
       "    </tr>\n",
       "  </tbody>\n",
       "</table>\n",
       "</div>"
      ],
      "text/plain": [
       "            id    qid1    qid2  \\\n",
       "61482   125898  203030  203031   \n",
       "131546   36249   66113   66114   \n",
       "22927   199864  301469  301470   \n",
       "183520  277339   17728  138400   \n",
       "67694   392907  525647  525648   \n",
       "\n",
       "                                                question1  \\\n",
       "61482   Is Java or C++ or C the most popular language ...   \n",
       "131546  How do you convert direct speech into reported...   \n",
       "22927                  Where can I buy used wine barrels?   \n",
       "183520  What was the best day of your life? (Excluding...   \n",
       "67694                           How is web-work.in works?   \n",
       "\n",
       "                                                question2  is_duplicate  \n",
       "61482   How do I develop a software which will have a ...             0  \n",
       "131546  I feel weak at spoken English. I have sentence...             0  \n",
       "22927                Where can you buy used wine barrels?             1  \n",
       "183520       What is the Best Day of your life till date?             1  \n",
       "67694                    How do I get web designing work?             0  "
      ]
     },
     "execution_count": 12,
     "metadata": {},
     "output_type": "execute_result"
    }
   ],
   "source": [
    "tr_df.head()"
   ]
  },
  {
   "cell_type": "markdown",
   "id": "8c6689a1-56e0-4aa6-9091-116993c5ab1a",
   "metadata": {},
   "source": [
    "## Preprocessing"
   ]
  },
  {
   "cell_type": "markdown",
   "id": "fb5340bf-1cc4-4610-83b7-997f89b416d1",
   "metadata": {},
   "source": [
    "First, a preprocessing is applied to the 2 questions: Casting it as strings, lowering and removing stop words. We also tokenize them."
   ]
  },
  {
   "cell_type": "code",
   "execution_count": 13,
   "id": "72c37849-cde7-43b9-8eb3-74ad6e3e8bf0",
   "metadata": {},
   "outputs": [],
   "source": [
    "#Cast\n",
    "q1_train_c =  utils.cast_list_as_strings(list(tr_df[\"question1\"]))\n",
    "q2_train_c =  utils.cast_list_as_strings(list(tr_df[\"question2\"]))\n",
    "q1_validation_c =  utils.cast_list_as_strings(list(va_df[\"question1\"]))\n",
    "q2_validation_c =  utils.cast_list_as_strings(list(va_df[\"question2\"]))\n",
    "q1_test_c =  utils.cast_list_as_strings(list(te_df[\"question1\"]))\n",
    "q2_test_c =  utils.cast_list_as_strings(list(te_df[\"question2\"]))"
   ]
  },
  {
   "cell_type": "code",
   "execution_count": 14,
   "id": "5c2d6f44-4a2a-4770-84b0-4ee812ca8465",
   "metadata": {},
   "outputs": [],
   "source": [
    "#Lower\n",
    "q1_train_lw = utils.lower_list(q1_train_c)\n",
    "q2_train_lw = utils.lower_list(q2_train_c)\n",
    "q1_validation_lw = utils.lower_list(q1_validation_c)\n",
    "q2_validation_lw = utils.lower_list(q2_validation_c)\n",
    "q1_test_lw = utils.lower_list(q1_test_c)\n",
    "q2_test_lw = utils.lower_list(q2_test_c)"
   ]
  },
  {
   "cell_type": "code",
   "execution_count": 15,
   "id": "985c78c5-fb1d-462e-ac8a-983390f241a2",
   "metadata": {},
   "outputs": [],
   "source": [
    "#Remove stop words\n",
    "stop_words = [\"a\", \"an\", \"the\", \"and\", \"but\", \"or\", \"in\", \"on\", \"at\", \"to\", \"of\", \"for\",\"i\",\"you\",\"he\",\"she\",\"it\",\"we\",\"they\",\n",
    "             \"me\",\"him\",\"her\",\"us\",\"them\",\"my\",\"your\",\"his\",\"its\",\"our\",\"their\",\"mine\",\"yours\",\"hers\",\"ours\",\"theirs\",\"myself\",\n",
    "              \"yourself\",\"himself\",\"herself\",\"itself\",\"ourselves\",\"yourselves\",\"themselves\",\"this\",\"that\",\"these\",\"those\"]\n",
    "q1_train = utils.remove_sw(q1_train_lw,stop_words)\n",
    "q2_train = utils.remove_sw(q2_train_lw,stop_words)\n",
    "q1_validation = utils.remove_sw(q1_validation_lw,stop_words)\n",
    "q2_validation = utils.remove_sw(q2_validation_lw,stop_words)\n",
    "q1_test = utils.remove_sw(q1_test_lw,stop_words)\n",
    "q2_test = utils.remove_sw(q2_test_lw,stop_words)"
   ]
  },
  {
   "cell_type": "code",
   "execution_count": 16,
   "id": "53e0d4de-b836-48c4-9651-e5d2ed6544a7",
   "metadata": {},
   "outputs": [],
   "source": [
    "#Tokenize\n",
    "q1_train_tokens = utils.tokenize(q1_train)\n",
    "q2_train_tokens = utils.tokenize(q2_train)\n",
    "q1_validation_tokens = utils.tokenize(q1_validation)\n",
    "q2_validation_tokens = utils.tokenize(q2_validation)\n",
    "q1_test_tokens = utils.tokenize(q1_test)\n",
    "q2_test_tokens = utils.tokenize(q2_test)"
   ]
  },
  {
   "cell_type": "markdown",
   "id": "7451da0a-a9b4-461f-8aee-d9b7cba46acb",
   "metadata": {},
   "source": [
    "## Jaccard distance at sentence level"
   ]
  },
  {
   "cell_type": "code",
   "execution_count": 17,
   "id": "41c252ca-9651-4565-9162-b20635c73922",
   "metadata": {},
   "outputs": [],
   "source": [
    "jd_feature_train = utils.generate_jd_feature(q1_train_tokens,q2_train_tokens)\n",
    "jd_feature_val = utils.generate_jd_feature(q1_validation_tokens,q2_validation_tokens)\n",
    "jd_feature_test = utils.generate_jd_feature(q1_test_tokens,q2_test_tokens)"
   ]
  },
  {
   "cell_type": "code",
   "execution_count": 18,
   "id": "66ade83a-bc96-4437-b392-d04c7267f46a",
   "metadata": {},
   "outputs": [],
   "source": [
    "jd_feature_train = np.array(jd_feature_train).reshape(-1,1)\n",
    "jd_feature_val = np.array(jd_feature_val).reshape(-1,1)\n",
    "jd_feature_test = np.array(jd_feature_test).reshape(-1,1)"
   ]
  },
  {
   "cell_type": "markdown",
   "id": "512e720d",
   "metadata": {},
   "source": [
    "# Cosine Distance"
   ]
  },
  {
   "cell_type": "code",
   "execution_count": 19,
   "id": "9a43b17b",
   "metadata": {},
   "outputs": [],
   "source": [
    "par_dir = os.path.normpath(os.path.join(os.getcwd(), os.pardir))\n",
    "models_dir = \"/nlp_quora/model_artifacts/\"\n",
    "models_dir_quora = f\"{par_dir}{models_dir}\""
   ]
  },
  {
   "cell_type": "code",
   "execution_count": null,
   "id": "e067986d",
   "metadata": {},
   "outputs": [],
   "source": [
    "tfidf_vectorizer = pickle.load(open(f'{models_dir_quora}/tfidf_vectorizer.pkl', 'rb'))\n",
    "\n",
    "tfidf_vectorizer_train_q1 = tfidf_vectorizer.transform(q1_train)\n",
    "tfidf_vectorizer_train_q2 = tfidf_vectorizer.transform(q2_train)\n",
    "\n",
    "tfidf_vectorizer_val_q1 = tfidf_vectorizer.transform(q1_validation)\n",
    "tfidf_vectorizer_val_q2 = tfidf_vectorizer.transform(q2_validation)\n",
    "\n",
    "tfidf_vectorizer_test_q1 = tfidf_vectorizer.transform(q1_test)\n",
    "tfidf_vectorizer_test_q2 = tfidf_vectorizer.transform(q2_test)"
   ]
  },
  {
   "cell_type": "code",
   "execution_count": 21,
   "id": "d8fa38a1",
   "metadata": {},
   "outputs": [],
   "source": [
    "tfidf_train = scipy.sparse.hstack((tfidf_vectorizer_train_q1,tfidf_vectorizer_train_q2))\n",
    "tfidf_val = scipy.sparse.hstack((tfidf_vectorizer_val_q1,tfidf_vectorizer_val_q2))\n",
    "tfidf_test = scipy.sparse.hstack((tfidf_vectorizer_test_q1,tfidf_vectorizer_test_q2))"
   ]
  },
  {
   "cell_type": "code",
   "execution_count": 22,
   "id": "6bfe8fe3",
   "metadata": {},
   "outputs": [
    {
     "name": "stderr",
     "output_type": "stream",
     "text": [
      "C:\\Users\\Hp\\UB\\Fundamental Principles of Data Science\\1st course\\2on semestre\\NLP-Quora\\utils.py:127: RuntimeWarning: invalid value encountered in divide\n",
      "  vector2.T.toarray()[0]/np.linalg.norm(vector2.toarray()))\n",
      "C:\\Users\\Hp\\UB\\Fundamental Principles of Data Science\\1st course\\2on semestre\\NLP-Quora\\utils.py:126: RuntimeWarning: invalid value encountered in divide\n",
      "  vector1.T.toarray()[0]/np.linalg.norm(vector1.toarray()),\n"
     ]
    }
   ],
   "source": [
    "cosine_distance_train = np.array([utils.cosine_distance(i,j) for i, j in zip(tfidf_vectorizer_train_q1,tfidf_vectorizer_train_q2)]).reshape(-1,1)\n",
    "cosine_distance_val = np.array([utils.cosine_distance(i,j) for i, j in zip(tfidf_vectorizer_val_q1,tfidf_vectorizer_val_q2)]).reshape(-1,1)\n",
    "cosine_distance_test = np.array([utils.cosine_distance(i,j) for i, j in zip(tfidf_vectorizer_test_q1,tfidf_vectorizer_test_q2)]).reshape(-1,1)\n",
    "\n",
    "cosine_distance_train = np.nan_to_num(cosine_distance_train, nan=0.0)\n",
    "cosine_distance_val = np.nan_to_num(cosine_distance_val, nan=0.0)\n",
    "cosine_distance_test = np.nan_to_num(cosine_distance_test, nan=0.0)"
   ]
  },
  {
   "cell_type": "markdown",
   "id": "696fadee",
   "metadata": {},
   "source": [
    "# Embeddings"
   ]
  },
  {
   "cell_type": "code",
   "execution_count": 23,
   "id": "6c9e7467",
   "metadata": {},
   "outputs": [],
   "source": [
    "wv = KeyedVectors.load(f'{models_dir_quora}/wordvectors', mmap='r')\n",
    "\n",
    "embedings_train_q1 = utils.w2v_embedding(q1_train_tokens, wv)\n",
    "embedings_train_q2 = utils.w2v_embedding(q2_train_tokens, wv)\n",
    "\n",
    "embedings_val_q1 = utils.w2v_embedding(q1_validation_tokens, wv)\n",
    "embedings_val_q2 = utils.w2v_embedding(q2_validation_tokens, wv)\n",
    "\n",
    "embedings_test_q1 = utils.w2v_embedding(q1_test_tokens, wv)\n",
    "embedings_test_q2 = utils.w2v_embedding(q2_test_tokens, wv)"
   ]
  },
  {
   "cell_type": "code",
   "execution_count": 24,
   "id": "07f0fb9a",
   "metadata": {},
   "outputs": [],
   "source": [
    "cosine_distance_embeddings_train = np.array([utils.cosine_distance(i,j) for i, j in \n",
    "                                  zip(embedings_train_q1,embedings_train_q2)]).reshape(-1,1)\n",
    "\n",
    "cosine_distance_embeddings_val = np.array([utils.cosine_distance(i,j) for i, j in \n",
    "                                  zip(embedings_val_q1,embedings_val_q2)]).reshape(-1,1)\n",
    "\n",
    "cosine_distance_embeddings_test = np.array([utils.cosine_distance(i,j) for i, j in \n",
    "                                  zip(embedings_test_q1,embedings_test_q2)]).reshape(-1,1)"
   ]
  },
  {
   "cell_type": "markdown",
   "id": "1846ef3e",
   "metadata": {},
   "source": [
    "## Comparing Words (first one and ordered)"
   ]
  },
  {
   "cell_type": "code",
   "execution_count": 25,
   "id": "9beff443",
   "metadata": {},
   "outputs": [],
   "source": [
    "kw_feature_train = utils.generate_key_words_feature(q1_train_tokens,q2_train_tokens)\n",
    "kw_feature_val = utils.generate_key_words_feature(q1_validation_tokens,q2_validation_tokens)\n",
    "kw_feature_test = utils.generate_key_words_feature(q1_test_tokens,q2_test_tokens)"
   ]
  },
  {
   "cell_type": "code",
   "execution_count": 26,
   "id": "70a197fd",
   "metadata": {},
   "outputs": [],
   "source": [
    "kw_feature_train = np.array(kw_feature_train).reshape(-1,1)\n",
    "kw_feature_val = np.array(kw_feature_val).reshape(-1,1)\n",
    "kw_feature_test = np.array(kw_feature_test).reshape(-1,1)"
   ]
  },
  {
   "cell_type": "code",
   "execution_count": 27,
   "id": "05e2ff7f",
   "metadata": {},
   "outputs": [],
   "source": [
    "ow_feature_train = utils.generate_ordered_words_feature(q1_train_tokens,q2_train_tokens)\n",
    "ow_feature_val = utils.generate_ordered_words_feature(q1_validation_tokens,q2_validation_tokens)\n",
    "ow_feature_test = utils.generate_ordered_words_feature(q1_test_tokens,q2_test_tokens)"
   ]
  },
  {
   "cell_type": "code",
   "execution_count": 28,
   "id": "28995c84",
   "metadata": {},
   "outputs": [],
   "source": [
    "ow_feature_train = np.array(ow_feature_train).reshape(-1,1)\n",
    "ow_feature_val = np.array(ow_feature_val).reshape(-1,1)\n",
    "ow_feature_test = np.array(ow_feature_test).reshape(-1,1)"
   ]
  },
  {
   "cell_type": "markdown",
   "id": "48e3f8c4-708f-4333-a2a8-a14bc56afc39",
   "metadata": {},
   "source": [
    "## Evaluation of the logistic model"
   ]
  },
  {
   "cell_type": "code",
   "execution_count": 29,
   "id": "f9c78962-caf9-4dee-aab4-b3b0f766b289",
   "metadata": {},
   "outputs": [],
   "source": [
    "X_tr = scipy.sparse.hstack((jd_feature_train, tfidf_train, kw_feature_train, ow_feature_train, cosine_distance_train, embedings_train_q1, embedings_train_q2, cosine_distance_embeddings_train))\n",
    "X_va = scipy.sparse.hstack((jd_feature_val, tfidf_val, kw_feature_val, ow_feature_val, cosine_distance_val, embedings_val_q1, embedings_val_q2, cosine_distance_embeddings_val))\n",
    "X_te = scipy.sparse.hstack((jd_feature_test, tfidf_test, kw_feature_test, ow_feature_test, cosine_distance_test, embedings_test_q1, embedings_test_q2, cosine_distance_embeddings_test))"
   ]
  },
  {
   "cell_type": "code",
   "execution_count": 11,
   "id": "99c67a3d-dcbb-4180-af59-62c246578c9b",
   "metadata": {},
   "outputs": [],
   "source": [
    "logistic_imp = pickle.load(open(f'{models_dir_quora}/logistic_imp.pkl', 'rb'))"
   ]
  },
  {
   "cell_type": "code",
   "execution_count": 31,
   "id": "d9f6d84c-b971-4790-a8c8-fd97c1850c40",
   "metadata": {},
   "outputs": [],
   "source": [
    "y_train = tr_df[\"is_duplicate\"].values\n",
    "y_validation = va_df[\"is_duplicate\"].values\n",
    "y_test = te_df[\"is_duplicate\"].values"
   ]
  },
  {
   "cell_type": "code",
   "execution_count": 32,
   "id": "12074e3a-71ab-4e2e-a3d3-3e33b8243785",
   "metadata": {},
   "outputs": [],
   "source": [
    "imp_model_metrics = np.zeros((3,5))\n",
    "imp_model_metrics[0,:] = utils.calculate_metrics(y_train,X_tr,logistic_imp)\n",
    "imp_model_metrics[1,:] = utils.calculate_metrics(y_validation,X_va,logistic_imp)\n",
    "imp_model_metrics[2,:] = utils.calculate_metrics(y_test,X_te,logistic_imp)"
   ]
  },
  {
   "cell_type": "code",
   "execution_count": 33,
   "id": "31c8e058-3b65-419d-bc35-562655fe449f",
   "metadata": {},
   "outputs": [
    {
     "data": {
      "text/html": [
       "<div>\n",
       "<style scoped>\n",
       "    .dataframe tbody tr th:only-of-type {\n",
       "        vertical-align: middle;\n",
       "    }\n",
       "\n",
       "    .dataframe tbody tr th {\n",
       "        vertical-align: top;\n",
       "    }\n",
       "\n",
       "    .dataframe thead th {\n",
       "        text-align: right;\n",
       "    }\n",
       "</style>\n",
       "<table border=\"1\" class=\"dataframe\">\n",
       "  <thead>\n",
       "    <tr style=\"text-align: right;\">\n",
       "      <th></th>\n",
       "      <th>Roc auc</th>\n",
       "      <th>Accuracy</th>\n",
       "      <th>Precision</th>\n",
       "      <th>Recall</th>\n",
       "      <th>f1 score</th>\n",
       "    </tr>\n",
       "  </thead>\n",
       "  <tbody>\n",
       "    <tr>\n",
       "      <th>Train</th>\n",
       "      <td>0.803387</td>\n",
       "      <td>0.824212</td>\n",
       "      <td>0.782721</td>\n",
       "      <td>0.724133</td>\n",
       "      <td>0.752288</td>\n",
       "    </tr>\n",
       "    <tr>\n",
       "      <th>Val.</th>\n",
       "      <td>0.766909</td>\n",
       "      <td>0.791903</td>\n",
       "      <td>0.740179</td>\n",
       "      <td>0.671608</td>\n",
       "      <td>0.704228</td>\n",
       "    </tr>\n",
       "    <tr>\n",
       "      <th>Test</th>\n",
       "      <td>0.770093</td>\n",
       "      <td>0.794274</td>\n",
       "      <td>0.746233</td>\n",
       "      <td>0.676045</td>\n",
       "      <td>0.709407</td>\n",
       "    </tr>\n",
       "  </tbody>\n",
       "</table>\n",
       "</div>"
      ],
      "text/plain": [
       "        Roc auc  Accuracy  Precision    Recall  f1 score\n",
       "Train  0.803387  0.824212   0.782721  0.724133  0.752288\n",
       "Val.   0.766909  0.791903   0.740179  0.671608  0.704228\n",
       "Test   0.770093  0.794274   0.746233  0.676045  0.709407"
      ]
     },
     "execution_count": 33,
     "metadata": {},
     "output_type": "execute_result"
    }
   ],
   "source": [
    "rows = [\"Train\",\"Val.\",\"Test\"]\n",
    "columns = [\"Roc auc\",\"Accuracy\",\"Precision\",\"Recall\",\"f1 score\"]\n",
    "imp_model_df = pd.DataFrame(imp_model_metrics,rows,columns)\n",
    "imp_model_df"
   ]
  },
  {
   "cell_type": "code",
   "execution_count": 34,
   "id": "e0071dad-3be3-4a2a-85c7-cd98b66d9eae",
   "metadata": {},
   "outputs": [
    {
     "data": {
      "text/html": [
       "<div>\n",
       "<style scoped>\n",
       "    .dataframe tbody tr th:only-of-type {\n",
       "        vertical-align: middle;\n",
       "    }\n",
       "\n",
       "    .dataframe tbody tr th {\n",
       "        vertical-align: top;\n",
       "    }\n",
       "\n",
       "    .dataframe thead th {\n",
       "        text-align: right;\n",
       "    }\n",
       "</style>\n",
       "<table border=\"1\" class=\"dataframe\">\n",
       "  <thead>\n",
       "    <tr style=\"text-align: right;\">\n",
       "      <th></th>\n",
       "      <th>Roc auc</th>\n",
       "      <th>Accuracy</th>\n",
       "      <th>Precision</th>\n",
       "      <th>Recall</th>\n",
       "      <th>f1 score</th>\n",
       "    </tr>\n",
       "  </thead>\n",
       "  <tbody>\n",
       "    <tr>\n",
       "      <th>Train</th>\n",
       "      <td>0.787490</td>\n",
       "      <td>0.813972</td>\n",
       "      <td>0.782060</td>\n",
       "      <td>0.686707</td>\n",
       "      <td>0.731288</td>\n",
       "    </tr>\n",
       "    <tr>\n",
       "      <th>Val.</th>\n",
       "      <td>0.720278</td>\n",
       "      <td>0.749007</td>\n",
       "      <td>0.677167</td>\n",
       "      <td>0.610729</td>\n",
       "      <td>0.642234</td>\n",
       "    </tr>\n",
       "    <tr>\n",
       "      <th>Test</th>\n",
       "      <td>0.729360</td>\n",
       "      <td>0.757791</td>\n",
       "      <td>0.695546</td>\n",
       "      <td>0.618778</td>\n",
       "      <td>0.654920</td>\n",
       "    </tr>\n",
       "  </tbody>\n",
       "</table>\n",
       "</div>"
      ],
      "text/plain": [
       "        Roc auc  Accuracy  Precision    Recall  f1 score\n",
       "Train  0.787490  0.813972   0.782060  0.686707  0.731288\n",
       "Val.   0.720278  0.749007   0.677167  0.610729  0.642234\n",
       "Test   0.729360  0.757791   0.695546  0.618778  0.654920"
      ]
     },
     "execution_count": 34,
     "metadata": {},
     "output_type": "execute_result"
    }
   ],
   "source": [
    "simple_model_df"
   ]
  },
  {
   "cell_type": "code",
   "execution_count": null,
   "id": "46dbef6a-5a80-4a63-af65-e1d644369449",
   "metadata": {},
   "outputs": [],
   "source": []
  },
  {
   "cell_type": "markdown",
   "id": "f3292716-6c9e-4636-a67b-698db1c34a32",
   "metadata": {},
   "source": []
  }
 ],
 "metadata": {
  "kernelspec": {
   "display_name": "Python 3 (ipykernel)",
   "language": "python",
   "name": "python3"
  },
  "language_info": {
   "codemirror_mode": {
    "name": "ipython",
    "version": 3
   },
   "file_extension": ".py",
   "mimetype": "text/x-python",
   "name": "python",
   "nbconvert_exporter": "python",
   "pygments_lexer": "ipython3",
   "version": "3.9.16"
  }
 },
 "nbformat": 4,
 "nbformat_minor": 5
}
