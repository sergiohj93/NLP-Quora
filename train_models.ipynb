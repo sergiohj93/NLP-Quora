{
 "cells": [
  {
   "cell_type": "code",
   "execution_count": 1,
   "id": "57802e0a-2595-4839-8e06-19bafb9828dc",
   "metadata": {},
   "outputs": [],
   "source": [
    "import utils\n",
    "import os\n",
    "import pandas as pd\n",
    "import sklearn\n",
    "from sklearn import *\n",
    "import os\n",
    "import errno\n",
    "import pickle\n",
    "import numpy as np\n",
    "import scipy"
   ]
  },
  {
   "cell_type": "markdown",
   "id": "df5413bc",
   "metadata": {},
   "source": [
    "# Simple model (Count Vectorizer)"
   ]
  },
  {
   "cell_type": "code",
   "execution_count": 2,
   "id": "44a53ab8-a2c4-4104-b47f-b9171f3717cc",
   "metadata": {},
   "outputs": [],
   "source": [
    "path_folder_quora = \"./Datasets/QuoraQuestionPairs/\""
   ]
  },
  {
   "cell_type": "code",
   "execution_count": 3,
   "id": "848cdc48-d9ad-4b56-b3be-af2bf5ea9951",
   "metadata": {},
   "outputs": [
    {
     "name": "stdout",
     "output_type": "stream",
     "text": [
      "tr_df.shape= (291897, 6)\n",
      "va_df.shape= (15363, 6)\n",
      "te_df.shape= (16172, 6)\n"
     ]
    }
   ],
   "source": [
    "train_df = pd.read_csv(os.path.join(path_folder_quora, \"quora_train_data.csv\"))\n",
    "A_df, te_df = sklearn.model_selection.train_test_split(train_df,test_size=0.05,random_state=123)\n",
    "tr_df, va_df = sklearn.model_selection.train_test_split(A_df,test_size=0.05,random_state=123)\n",
    "print('tr_df.shape=',tr_df.shape)\n",
    "print('va_df.shape=',va_df.shape)\n",
    "print('te_df.shape=',te_df.shape)"
   ]
  },
  {
   "cell_type": "code",
   "execution_count": 4,
   "id": "da6d5aa3-4eb6-4587-a64e-1d4cfb232178",
   "metadata": {},
   "outputs": [
    {
     "data": {
      "text/html": [
       "<div>\n",
       "<style scoped>\n",
       "    .dataframe tbody tr th:only-of-type {\n",
       "        vertical-align: middle;\n",
       "    }\n",
       "\n",
       "    .dataframe tbody tr th {\n",
       "        vertical-align: top;\n",
       "    }\n",
       "\n",
       "    .dataframe thead th {\n",
       "        text-align: right;\n",
       "    }\n",
       "</style>\n",
       "<table border=\"1\" class=\"dataframe\">\n",
       "  <thead>\n",
       "    <tr style=\"text-align: right;\">\n",
       "      <th></th>\n",
       "      <th>id</th>\n",
       "      <th>qid1</th>\n",
       "      <th>qid2</th>\n",
       "      <th>question1</th>\n",
       "      <th>question2</th>\n",
       "      <th>is_duplicate</th>\n",
       "    </tr>\n",
       "  </thead>\n",
       "  <tbody>\n",
       "    <tr>\n",
       "      <th>61482</th>\n",
       "      <td>125898</td>\n",
       "      <td>203030</td>\n",
       "      <td>203031</td>\n",
       "      <td>Is Java or C++ or C the most popular language ...</td>\n",
       "      <td>How do I develop a software which will have a ...</td>\n",
       "      <td>0</td>\n",
       "    </tr>\n",
       "    <tr>\n",
       "      <th>131546</th>\n",
       "      <td>36249</td>\n",
       "      <td>66113</td>\n",
       "      <td>66114</td>\n",
       "      <td>How do you convert direct speech into reported...</td>\n",
       "      <td>I feel weak at spoken English. I have sentence...</td>\n",
       "      <td>0</td>\n",
       "    </tr>\n",
       "    <tr>\n",
       "      <th>22927</th>\n",
       "      <td>199864</td>\n",
       "      <td>301469</td>\n",
       "      <td>301470</td>\n",
       "      <td>Where can I buy used wine barrels?</td>\n",
       "      <td>Where can you buy used wine barrels?</td>\n",
       "      <td>1</td>\n",
       "    </tr>\n",
       "    <tr>\n",
       "      <th>183520</th>\n",
       "      <td>277339</td>\n",
       "      <td>17728</td>\n",
       "      <td>138400</td>\n",
       "      <td>What was the best day of your life? (Excluding...</td>\n",
       "      <td>What is the Best Day of your life till date?</td>\n",
       "      <td>1</td>\n",
       "    </tr>\n",
       "    <tr>\n",
       "      <th>67694</th>\n",
       "      <td>392907</td>\n",
       "      <td>525647</td>\n",
       "      <td>525648</td>\n",
       "      <td>How is web-work.in works?</td>\n",
       "      <td>How do I get web designing work?</td>\n",
       "      <td>0</td>\n",
       "    </tr>\n",
       "  </tbody>\n",
       "</table>\n",
       "</div>"
      ],
      "text/plain": [
       "            id    qid1    qid2  \\\n",
       "61482   125898  203030  203031   \n",
       "131546   36249   66113   66114   \n",
       "22927   199864  301469  301470   \n",
       "183520  277339   17728  138400   \n",
       "67694   392907  525647  525648   \n",
       "\n",
       "                                                question1  \\\n",
       "61482   Is Java or C++ or C the most popular language ...   \n",
       "131546  How do you convert direct speech into reported...   \n",
       "22927                  Where can I buy used wine barrels?   \n",
       "183520  What was the best day of your life? (Excluding...   \n",
       "67694                           How is web-work.in works?   \n",
       "\n",
       "                                                question2  is_duplicate  \n",
       "61482   How do I develop a software which will have a ...             0  \n",
       "131546  I feel weak at spoken English. I have sentence...             0  \n",
       "22927                Where can you buy used wine barrels?             1  \n",
       "183520       What is the Best Day of your life till date?             1  \n",
       "67694                    How do I get web designing work?             0  "
      ]
     },
     "execution_count": 4,
     "metadata": {},
     "output_type": "execute_result"
    }
   ],
   "source": [
    "tr_df.head()"
   ]
  },
  {
   "cell_type": "code",
   "execution_count": 5,
   "id": "166c9195",
   "metadata": {},
   "outputs": [],
   "source": [
    "q1_train =  utils.cast_list_as_strings(list(tr_df[\"question1\"]))\n",
    "q2_train =  utils.cast_list_as_strings(list(tr_df[\"question2\"]))\n",
    "q1_validation =  utils.cast_list_as_strings(list(va_df[\"question1\"]))\n",
    "q2_validation =  utils.cast_list_as_strings(list(va_df[\"question2\"]))"
   ]
  },
  {
   "cell_type": "code",
   "execution_count": 6,
   "id": "cb30826b",
   "metadata": {},
   "outputs": [
    {
     "data": {
      "text/plain": [
       "('Is Java or C++ or C the most popular language amongst startups for backend development?',\n",
       " 'How do I develop a software which will have a Java GUI and a C++ or C backend?')"
      ]
     },
     "execution_count": 6,
     "metadata": {},
     "output_type": "execute_result"
    }
   ],
   "source": [
    "q1_train[0], q2_train[0]"
   ]
  },
  {
   "cell_type": "code",
   "execution_count": 7,
   "id": "0c1e7822",
   "metadata": {},
   "outputs": [
    {
     "data": {
      "text/html": [
       "<style>#sk-container-id-1 {color: black;background-color: white;}#sk-container-id-1 pre{padding: 0;}#sk-container-id-1 div.sk-toggleable {background-color: white;}#sk-container-id-1 label.sk-toggleable__label {cursor: pointer;display: block;width: 100%;margin-bottom: 0;padding: 0.3em;box-sizing: border-box;text-align: center;}#sk-container-id-1 label.sk-toggleable__label-arrow:before {content: \"▸\";float: left;margin-right: 0.25em;color: #696969;}#sk-container-id-1 label.sk-toggleable__label-arrow:hover:before {color: black;}#sk-container-id-1 div.sk-estimator:hover label.sk-toggleable__label-arrow:before {color: black;}#sk-container-id-1 div.sk-toggleable__content {max-height: 0;max-width: 0;overflow: hidden;text-align: left;background-color: #f0f8ff;}#sk-container-id-1 div.sk-toggleable__content pre {margin: 0.2em;color: black;border-radius: 0.25em;background-color: #f0f8ff;}#sk-container-id-1 input.sk-toggleable__control:checked~div.sk-toggleable__content {max-height: 200px;max-width: 100%;overflow: auto;}#sk-container-id-1 input.sk-toggleable__control:checked~label.sk-toggleable__label-arrow:before {content: \"▾\";}#sk-container-id-1 div.sk-estimator input.sk-toggleable__control:checked~label.sk-toggleable__label {background-color: #d4ebff;}#sk-container-id-1 div.sk-label input.sk-toggleable__control:checked~label.sk-toggleable__label {background-color: #d4ebff;}#sk-container-id-1 input.sk-hidden--visually {border: 0;clip: rect(1px 1px 1px 1px);clip: rect(1px, 1px, 1px, 1px);height: 1px;margin: -1px;overflow: hidden;padding: 0;position: absolute;width: 1px;}#sk-container-id-1 div.sk-estimator {font-family: monospace;background-color: #f0f8ff;border: 1px dotted black;border-radius: 0.25em;box-sizing: border-box;margin-bottom: 0.5em;}#sk-container-id-1 div.sk-estimator:hover {background-color: #d4ebff;}#sk-container-id-1 div.sk-parallel-item::after {content: \"\";width: 100%;border-bottom: 1px solid gray;flex-grow: 1;}#sk-container-id-1 div.sk-label:hover label.sk-toggleable__label {background-color: #d4ebff;}#sk-container-id-1 div.sk-serial::before {content: \"\";position: absolute;border-left: 1px solid gray;box-sizing: border-box;top: 0;bottom: 0;left: 50%;z-index: 0;}#sk-container-id-1 div.sk-serial {display: flex;flex-direction: column;align-items: center;background-color: white;padding-right: 0.2em;padding-left: 0.2em;position: relative;}#sk-container-id-1 div.sk-item {position: relative;z-index: 1;}#sk-container-id-1 div.sk-parallel {display: flex;align-items: stretch;justify-content: center;background-color: white;position: relative;}#sk-container-id-1 div.sk-item::before, #sk-container-id-1 div.sk-parallel-item::before {content: \"\";position: absolute;border-left: 1px solid gray;box-sizing: border-box;top: 0;bottom: 0;left: 50%;z-index: -1;}#sk-container-id-1 div.sk-parallel-item {display: flex;flex-direction: column;z-index: 1;position: relative;background-color: white;}#sk-container-id-1 div.sk-parallel-item:first-child::after {align-self: flex-end;width: 50%;}#sk-container-id-1 div.sk-parallel-item:last-child::after {align-self: flex-start;width: 50%;}#sk-container-id-1 div.sk-parallel-item:only-child::after {width: 0;}#sk-container-id-1 div.sk-dashed-wrapped {border: 1px dashed gray;margin: 0 0.4em 0.5em 0.4em;box-sizing: border-box;padding-bottom: 0.4em;background-color: white;}#sk-container-id-1 div.sk-label label {font-family: monospace;font-weight: bold;display: inline-block;line-height: 1.2em;}#sk-container-id-1 div.sk-label-container {text-align: center;}#sk-container-id-1 div.sk-container {/* jupyter's `normalize.less` sets `[hidden] { display: none; }` but bootstrap.min.css set `[hidden] { display: none !important; }` so we also need the `!important` here to be able to override the default hidden behavior on the sphinx rendered scikit-learn.org. See: https://github.com/scikit-learn/scikit-learn/issues/21755 */display: inline-block !important;position: relative;}#sk-container-id-1 div.sk-text-repr-fallback {display: none;}</style><div id=\"sk-container-id-1\" class=\"sk-top-container\"><div class=\"sk-text-repr-fallback\"><pre>CountVectorizer()</pre><b>In a Jupyter environment, please rerun this cell to show the HTML representation or trust the notebook. <br />On GitHub, the HTML representation is unable to render, please try loading this page with nbviewer.org.</b></div><div class=\"sk-container\" hidden><div class=\"sk-item\"><div class=\"sk-estimator sk-toggleable\"><input class=\"sk-toggleable__control sk-hidden--visually\" id=\"sk-estimator-id-1\" type=\"checkbox\" checked><label for=\"sk-estimator-id-1\" class=\"sk-toggleable__label sk-toggleable__label-arrow\">CountVectorizer</label><div class=\"sk-toggleable__content\"><pre>CountVectorizer()</pre></div></div></div></div></div>"
      ],
      "text/plain": [
       "CountVectorizer()"
      ]
     },
     "execution_count": 7,
     "metadata": {},
     "output_type": "execute_result"
    }
   ],
   "source": [
    "all_train_questions = q1_train + q2_train\n",
    "\n",
    "count_vectorizer = sklearn.feature_extraction.text.CountVectorizer(ngram_range=(1,1))\n",
    "count_vectorizer.fit(all_train_questions)"
   ]
  },
  {
   "cell_type": "code",
   "execution_count": 8,
   "id": "92e66388",
   "metadata": {},
   "outputs": [
    {
     "data": {
      "text/plain": [
       "((291897, 149650), (291897, 6))"
      ]
     },
     "execution_count": 8,
     "metadata": {},
     "output_type": "execute_result"
    }
   ],
   "source": [
    "X_tr_q1q2 = utils.get_features_from_df(tr_df, count_vectorizer)\n",
    "\n",
    "X_tr_q1q2.shape, tr_df.shape"
   ]
  },
  {
   "cell_type": "code",
   "execution_count": 9,
   "id": "a86c9ade",
   "metadata": {},
   "outputs": [
    {
     "data": {
      "text/html": [
       "<style>#sk-container-id-2 {color: black;background-color: white;}#sk-container-id-2 pre{padding: 0;}#sk-container-id-2 div.sk-toggleable {background-color: white;}#sk-container-id-2 label.sk-toggleable__label {cursor: pointer;display: block;width: 100%;margin-bottom: 0;padding: 0.3em;box-sizing: border-box;text-align: center;}#sk-container-id-2 label.sk-toggleable__label-arrow:before {content: \"▸\";float: left;margin-right: 0.25em;color: #696969;}#sk-container-id-2 label.sk-toggleable__label-arrow:hover:before {color: black;}#sk-container-id-2 div.sk-estimator:hover label.sk-toggleable__label-arrow:before {color: black;}#sk-container-id-2 div.sk-toggleable__content {max-height: 0;max-width: 0;overflow: hidden;text-align: left;background-color: #f0f8ff;}#sk-container-id-2 div.sk-toggleable__content pre {margin: 0.2em;color: black;border-radius: 0.25em;background-color: #f0f8ff;}#sk-container-id-2 input.sk-toggleable__control:checked~div.sk-toggleable__content {max-height: 200px;max-width: 100%;overflow: auto;}#sk-container-id-2 input.sk-toggleable__control:checked~label.sk-toggleable__label-arrow:before {content: \"▾\";}#sk-container-id-2 div.sk-estimator input.sk-toggleable__control:checked~label.sk-toggleable__label {background-color: #d4ebff;}#sk-container-id-2 div.sk-label input.sk-toggleable__control:checked~label.sk-toggleable__label {background-color: #d4ebff;}#sk-container-id-2 input.sk-hidden--visually {border: 0;clip: rect(1px 1px 1px 1px);clip: rect(1px, 1px, 1px, 1px);height: 1px;margin: -1px;overflow: hidden;padding: 0;position: absolute;width: 1px;}#sk-container-id-2 div.sk-estimator {font-family: monospace;background-color: #f0f8ff;border: 1px dotted black;border-radius: 0.25em;box-sizing: border-box;margin-bottom: 0.5em;}#sk-container-id-2 div.sk-estimator:hover {background-color: #d4ebff;}#sk-container-id-2 div.sk-parallel-item::after {content: \"\";width: 100%;border-bottom: 1px solid gray;flex-grow: 1;}#sk-container-id-2 div.sk-label:hover label.sk-toggleable__label {background-color: #d4ebff;}#sk-container-id-2 div.sk-serial::before {content: \"\";position: absolute;border-left: 1px solid gray;box-sizing: border-box;top: 0;bottom: 0;left: 50%;z-index: 0;}#sk-container-id-2 div.sk-serial {display: flex;flex-direction: column;align-items: center;background-color: white;padding-right: 0.2em;padding-left: 0.2em;position: relative;}#sk-container-id-2 div.sk-item {position: relative;z-index: 1;}#sk-container-id-2 div.sk-parallel {display: flex;align-items: stretch;justify-content: center;background-color: white;position: relative;}#sk-container-id-2 div.sk-item::before, #sk-container-id-2 div.sk-parallel-item::before {content: \"\";position: absolute;border-left: 1px solid gray;box-sizing: border-box;top: 0;bottom: 0;left: 50%;z-index: -1;}#sk-container-id-2 div.sk-parallel-item {display: flex;flex-direction: column;z-index: 1;position: relative;background-color: white;}#sk-container-id-2 div.sk-parallel-item:first-child::after {align-self: flex-end;width: 50%;}#sk-container-id-2 div.sk-parallel-item:last-child::after {align-self: flex-start;width: 50%;}#sk-container-id-2 div.sk-parallel-item:only-child::after {width: 0;}#sk-container-id-2 div.sk-dashed-wrapped {border: 1px dashed gray;margin: 0 0.4em 0.5em 0.4em;box-sizing: border-box;padding-bottom: 0.4em;background-color: white;}#sk-container-id-2 div.sk-label label {font-family: monospace;font-weight: bold;display: inline-block;line-height: 1.2em;}#sk-container-id-2 div.sk-label-container {text-align: center;}#sk-container-id-2 div.sk-container {/* jupyter's `normalize.less` sets `[hidden] { display: none; }` but bootstrap.min.css set `[hidden] { display: none !important; }` so we also need the `!important` here to be able to override the default hidden behavior on the sphinx rendered scikit-learn.org. See: https://github.com/scikit-learn/scikit-learn/issues/21755 */display: inline-block !important;position: relative;}#sk-container-id-2 div.sk-text-repr-fallback {display: none;}</style><div id=\"sk-container-id-2\" class=\"sk-top-container\"><div class=\"sk-text-repr-fallback\"><pre>LogisticRegression(random_state=123, solver=&#x27;liblinear&#x27;)</pre><b>In a Jupyter environment, please rerun this cell to show the HTML representation or trust the notebook. <br />On GitHub, the HTML representation is unable to render, please try loading this page with nbviewer.org.</b></div><div class=\"sk-container\" hidden><div class=\"sk-item\"><div class=\"sk-estimator sk-toggleable\"><input class=\"sk-toggleable__control sk-hidden--visually\" id=\"sk-estimator-id-2\" type=\"checkbox\" checked><label for=\"sk-estimator-id-2\" class=\"sk-toggleable__label sk-toggleable__label-arrow\">LogisticRegression</label><div class=\"sk-toggleable__content\"><pre>LogisticRegression(random_state=123, solver=&#x27;liblinear&#x27;)</pre></div></div></div></div></div>"
      ],
      "text/plain": [
       "LogisticRegression(random_state=123, solver='liblinear')"
      ]
     },
     "execution_count": 9,
     "metadata": {},
     "output_type": "execute_result"
    }
   ],
   "source": [
    "logistic = sklearn.linear_model.LogisticRegression(solver=\"liblinear\", random_state=123)\n",
    "y_train = tr_df[\"is_duplicate\"].values\n",
    "logistic.fit(X_tr_q1q2, y_train)"
   ]
  },
  {
   "cell_type": "code",
   "execution_count": 10,
   "id": "cad3a5f3",
   "metadata": {},
   "outputs": [
    {
     "name": "stdout",
     "output_type": "stream",
     "text": [
      "What is a good website for free ebooks?\n",
      "What are the sites to download free eBooks?\n",
      "true class: 1\n",
      "prediction: 0\n"
     ]
    }
   ],
   "source": [
    "mistake_indices_tr, predictions_tr = utils.get_mistakes(logistic, X_tr_q1q2,  y_train)\n",
    "\n",
    "utils.print_mistake_k(10, tr_df, mistake_indices_tr, predictions_tr)"
   ]
  },
  {
   "cell_type": "code",
   "execution_count": 11,
   "id": "5f6f2eb9",
   "metadata": {},
   "outputs": [],
   "source": [
    "# check if directory exists\n",
    "if not os.path.exists('model_artifacts'):\n",
    "    try:\n",
    "        # create folder\n",
    "        os.makedirs('model_artifacts')\n",
    "        # open file descriptors for writing\n",
    "        countvectorizer_file = open('model_artifacts/count_vectorizer.pkl', 'wb')\n",
    "        logistic_file = open('model_artifacts/logistic.pkl', 'wb')\n",
    "        # serialize and write objects to files\n",
    "        pickle.dump(count_vectorizer, countvectorizer_file)\n",
    "        pickle.dump(logistic, logistic_file)\n",
    "        # close file descriptors\n",
    "        countvectorizer_file.close()\n",
    "        logistic_file.close()\n",
    "    except OSError as e:\n",
    "        if e.errno != errno.EEXIST:\n",
    "            raise"
   ]
  },
  {
   "cell_type": "markdown",
   "id": "70dd97ed",
   "metadata": {},
   "source": [
    "# Improved model"
   ]
  },
  {
   "cell_type": "code",
   "execution_count": 2,
   "id": "b6ca2951-90b0-4e12-8596-589a654c4933",
   "metadata": {},
   "outputs": [],
   "source": [
    "path_folder_quora = \"./Datasets/QuoraQuestionPairs/\""
   ]
  },
  {
   "cell_type": "code",
   "execution_count": 3,
   "id": "973a4c16-3904-4270-afd9-d11287133f23",
   "metadata": {},
   "outputs": [
    {
     "name": "stdout",
     "output_type": "stream",
     "text": [
      "tr_df.shape= (291897, 6)\n",
      "va_df.shape= (15363, 6)\n",
      "te_df.shape= (16172, 6)\n"
     ]
    }
   ],
   "source": [
    "train_df = pd.read_csv(os.path.join(path_folder_quora, \"quora_train_data.csv\"))\n",
    "A_df, te_df = sklearn.model_selection.train_test_split(train_df,test_size=0.05,random_state=123)\n",
    "tr_df, va_df = sklearn.model_selection.train_test_split(A_df,test_size=0.05,random_state=123)\n",
    "print('tr_df.shape=',tr_df.shape)\n",
    "print('va_df.shape=',va_df.shape)\n",
    "print('te_df.shape=',te_df.shape)"
   ]
  },
  {
   "cell_type": "code",
   "execution_count": 4,
   "id": "3f7ab310-02da-4959-8762-aa287b35c5cc",
   "metadata": {},
   "outputs": [
    {
     "data": {
      "text/html": [
       "<div>\n",
       "<style scoped>\n",
       "    .dataframe tbody tr th:only-of-type {\n",
       "        vertical-align: middle;\n",
       "    }\n",
       "\n",
       "    .dataframe tbody tr th {\n",
       "        vertical-align: top;\n",
       "    }\n",
       "\n",
       "    .dataframe thead th {\n",
       "        text-align: right;\n",
       "    }\n",
       "</style>\n",
       "<table border=\"1\" class=\"dataframe\">\n",
       "  <thead>\n",
       "    <tr style=\"text-align: right;\">\n",
       "      <th></th>\n",
       "      <th>id</th>\n",
       "      <th>qid1</th>\n",
       "      <th>qid2</th>\n",
       "      <th>question1</th>\n",
       "      <th>question2</th>\n",
       "      <th>is_duplicate</th>\n",
       "    </tr>\n",
       "  </thead>\n",
       "  <tbody>\n",
       "    <tr>\n",
       "      <th>61482</th>\n",
       "      <td>125898</td>\n",
       "      <td>203030</td>\n",
       "      <td>203031</td>\n",
       "      <td>Is Java or C++ or C the most popular language ...</td>\n",
       "      <td>How do I develop a software which will have a ...</td>\n",
       "      <td>0</td>\n",
       "    </tr>\n",
       "    <tr>\n",
       "      <th>131546</th>\n",
       "      <td>36249</td>\n",
       "      <td>66113</td>\n",
       "      <td>66114</td>\n",
       "      <td>How do you convert direct speech into reported...</td>\n",
       "      <td>I feel weak at spoken English. I have sentence...</td>\n",
       "      <td>0</td>\n",
       "    </tr>\n",
       "    <tr>\n",
       "      <th>22927</th>\n",
       "      <td>199864</td>\n",
       "      <td>301469</td>\n",
       "      <td>301470</td>\n",
       "      <td>Where can I buy used wine barrels?</td>\n",
       "      <td>Where can you buy used wine barrels?</td>\n",
       "      <td>1</td>\n",
       "    </tr>\n",
       "    <tr>\n",
       "      <th>183520</th>\n",
       "      <td>277339</td>\n",
       "      <td>17728</td>\n",
       "      <td>138400</td>\n",
       "      <td>What was the best day of your life? (Excluding...</td>\n",
       "      <td>What is the Best Day of your life till date?</td>\n",
       "      <td>1</td>\n",
       "    </tr>\n",
       "    <tr>\n",
       "      <th>67694</th>\n",
       "      <td>392907</td>\n",
       "      <td>525647</td>\n",
       "      <td>525648</td>\n",
       "      <td>How is web-work.in works?</td>\n",
       "      <td>How do I get web designing work?</td>\n",
       "      <td>0</td>\n",
       "    </tr>\n",
       "  </tbody>\n",
       "</table>\n",
       "</div>"
      ],
      "text/plain": [
       "            id    qid1    qid2  \\\n",
       "61482   125898  203030  203031   \n",
       "131546   36249   66113   66114   \n",
       "22927   199864  301469  301470   \n",
       "183520  277339   17728  138400   \n",
       "67694   392907  525647  525648   \n",
       "\n",
       "                                                question1  \\\n",
       "61482   Is Java or C++ or C the most popular language ...   \n",
       "131546  How do you convert direct speech into reported...   \n",
       "22927                  Where can I buy used wine barrels?   \n",
       "183520  What was the best day of your life? (Excluding...   \n",
       "67694                           How is web-work.in works?   \n",
       "\n",
       "                                                question2  is_duplicate  \n",
       "61482   How do I develop a software which will have a ...             0  \n",
       "131546  I feel weak at spoken English. I have sentence...             0  \n",
       "22927                Where can you buy used wine barrels?             1  \n",
       "183520       What is the Best Day of your life till date?             1  \n",
       "67694                    How do I get web designing work?             0  "
      ]
     },
     "execution_count": 4,
     "metadata": {},
     "output_type": "execute_result"
    }
   ],
   "source": [
    "tr_df.head()"
   ]
  },
  {
   "cell_type": "markdown",
   "id": "97c9c0e7-1972-48f1-95ea-37bd4ee60da8",
   "metadata": {},
   "source": [
    "## Preprocessing"
   ]
  },
  {
   "cell_type": "markdown",
   "id": "e08c3f53-5228-4fdd-b635-a8316a225874",
   "metadata": {},
   "source": [
    "First, a preprocessing is applied to the 2 questions: Casting it as strings, lowering and removing stop words. We also tokenize them."
   ]
  },
  {
   "cell_type": "code",
   "execution_count": 5,
   "id": "54129886-8992-417e-aad5-cb440ed432a8",
   "metadata": {},
   "outputs": [],
   "source": [
    "#Cast\n",
    "q1_train_c =  utils.cast_list_as_strings(list(tr_df[\"question1\"]))\n",
    "q2_train_c =  utils.cast_list_as_strings(list(tr_df[\"question2\"]))\n",
    "q1_validation_c =  utils.cast_list_as_strings(list(va_df[\"question1\"]))\n",
    "q2_validation_c =  utils.cast_list_as_strings(list(va_df[\"question2\"]))"
   ]
  },
  {
   "cell_type": "code",
   "execution_count": 6,
   "id": "83bc37b4-92a2-4250-85f9-4eb2324ceffc",
   "metadata": {},
   "outputs": [],
   "source": [
    "#Lower\n",
    "q1_train_lw = utils.lower_list(q1_train_c)\n",
    "q2_train_lw = utils.lower_list(q2_train_c)\n",
    "q1_validation_lw = utils.lower_list(q1_validation_c)\n",
    "q2_validation_lw = utils.lower_list(q2_validation_c)"
   ]
  },
  {
   "cell_type": "code",
   "execution_count": 7,
   "id": "3bc99e51-019b-4bfa-9b23-28bdab56a805",
   "metadata": {},
   "outputs": [],
   "source": [
    "#Remove stop words\n",
    "stop_words = [\"a\", \"an\", \"the\", \"and\", \"but\", \"or\", \"in\", \"on\", \"at\", \"to\", \"of\", \"for\",\"i\",\"you\",\"he\",\"she\",\"it\",\"we\",\"they\",\n",
    "             \"me\",\"him\",\"her\",\"us\",\"them\",\"my\",\"your\",\"his\",\"its\",\"our\",\"their\",\"mine\",\"yours\",\"hers\",\"ours\",\"theirs\",\"myself\",\n",
    "              \"yourself\",\"himself\",\"herself\",\"itself\",\"ourselves\",\"yourselves\",\"themselves\",\"this\",\"that\",\"these\",\"those\"]\n",
    "q1_train = utils.remove_sw(q1_train_lw,stop_words)\n",
    "q2_train = utils.remove_sw(q2_train_lw,stop_words)\n",
    "q1_validation = utils.remove_sw(q1_validation_lw,stop_words)\n",
    "q2_validation = utils.remove_sw(q2_validation_lw,stop_words)"
   ]
  },
  {
   "cell_type": "code",
   "execution_count": 8,
   "id": "5fda5062-2454-4452-8783-641c8d7b5845",
   "metadata": {},
   "outputs": [],
   "source": [
    "#Tokenize\n",
    "q1_train_tokens = utils.tokenize(q1_train)\n",
    "q2_train_tokens = utils.tokenize(q2_train)\n",
    "q1_validation_tokens = utils.tokenize(q1_validation)\n",
    "q2_validation_tokens = utils.tokenize(q2_validation)"
   ]
  },
  {
   "cell_type": "code",
   "execution_count": 9,
   "id": "c0fd921b-6432-4985-a3da-5b6be69c7495",
   "metadata": {},
   "outputs": [
    {
     "name": "stdout",
     "output_type": "stream",
     "text": [
      "291897 291897\n"
     ]
    }
   ],
   "source": [
    "print(len(q1_train_tokens),len(q2_train_tokens))"
   ]
  },
  {
   "cell_type": "markdown",
   "id": "0cfb9d4d-1c40-480d-8765-eb381106ea8c",
   "metadata": {},
   "source": [
    "## Jaccard distance at sentence level"
   ]
  },
  {
   "cell_type": "code",
   "execution_count": 10,
   "id": "f2236211-8220-4de1-9c65-13d76f363866",
   "metadata": {},
   "outputs": [],
   "source": [
    "jd_feature_train = utils.generate_jd_feature(q1_train_tokens,q2_train_tokens)\n",
    "jd_feature_val = utils.generate_jd_feature(q1_validation_tokens,q2_validation_tokens)"
   ]
  },
  {
   "cell_type": "code",
   "execution_count": 11,
   "id": "c3c5badb-25fb-4fe1-97db-411daca386c0",
   "metadata": {},
   "outputs": [
    {
     "data": {
      "text/plain": [
       "(291897, 1)"
      ]
     },
     "execution_count": 11,
     "metadata": {},
     "output_type": "execute_result"
    }
   ],
   "source": [
    "jd_feature_train = np.array(jd_feature_train).reshape(-1,1)\n",
    "jd_feature_train.shape"
   ]
  },
  {
   "cell_type": "code",
   "execution_count": 12,
   "id": "d673302e-3cf1-4e36-9cb4-3cc1c0f4ed42",
   "metadata": {},
   "outputs": [
    {
     "name": "stdout",
     "output_type": "stream",
     "text": [
      "['where', 'can', 'buy', 'used', 'wine', 'barrels']\n",
      "['where', 'can', 'buy', 'used', 'wine', 'barrels']\n",
      "1\n",
      "[0.]\n"
     ]
    }
   ],
   "source": [
    "print(q1_train_tokens[2])\n",
    "print(q2_train_tokens[2])\n",
    "print(tr_df[\"is_duplicate\"].values[2])\n",
    "print(jd_feature_train[2])"
   ]
  },
  {
   "cell_type": "code",
   "execution_count": 13,
   "id": "2229e31a-1775-429f-9ec9-6fe9dc3000f0",
   "metadata": {},
   "outputs": [
    {
     "name": "stdout",
     "output_type": "stream",
     "text": [
      "['what', 'was', 'best', 'day', 'life', 'excluding', 'family', 'things', 'like', 'births']\n",
      "['what', 'is', 'best', 'day', 'life', 'till', 'date']\n",
      "1\n",
      "[0.69230769]\n"
     ]
    }
   ],
   "source": [
    "print(q1_train_tokens[3])\n",
    "print(q2_train_tokens[3])\n",
    "print(tr_df[\"is_duplicate\"].values[3])\n",
    "print(jd_feature_train[3])"
   ]
  },
  {
   "cell_type": "markdown",
   "id": "d1ae9585-99d0-4c0b-8e1a-02e1b1cdc664",
   "metadata": {},
   "source": [
    "## Unit tests TF-IDF and Cosine Distatnce"
   ]
  },
  {
   "cell_type": "code",
   "execution_count": 15,
   "id": "262f752e-6eee-4099-83a5-f40a36bc8271",
   "metadata": {},
   "outputs": [],
   "source": [
    "all_train_questions = q1_train + q2_train\n",
    "\n",
    "vectorizer = utils.tfidf_vectorizer(all_train_questions, max_features=10000)\n",
    "\n",
    "tfidf_vectorizer_train_q1 = vectorizer.transform(q1_train)\n",
    "tfidf_vectorizer_train_q2 = vectorizer.transform(q2_train)\n",
    "\n",
    "tfidf_vectorizer_val_q1 = vectorizer.transform(q1_validation)\n",
    "tfidf_vectorizer_val_q2 = vectorizer.transform(q2_validation)"
   ]
  },
  {
   "cell_type": "code",
   "execution_count": 16,
   "id": "c90d7c6c",
   "metadata": {},
   "outputs": [],
   "source": [
    "utils.save_model(vectorizer, 'tfidf_vectorizer_train')"
   ]
  },
  {
   "cell_type": "code",
   "execution_count": 17,
   "id": "7467fdf5",
   "metadata": {},
   "outputs": [],
   "source": [
    "tfidf_train = scipy.sparse.hstack((tfidf_vectorizer_train_q1,tfidf_vectorizer_train_q2))\n",
    "tfidf_val = scipy.sparse.hstack((tfidf_vectorizer_val_q1,tfidf_vectorizer_val_q2))"
   ]
  },
  {
   "cell_type": "code",
   "execution_count": 18,
   "id": "7d9c6c58",
   "metadata": {},
   "outputs": [
    {
     "ename": "MemoryError",
     "evalue": "Unable to allocate 41.7 GiB for an array with shape (74780, 74780) and data type float64",
     "output_type": "error",
     "traceback": [
      "\u001b[1;31m---------------------------------------------------------------------------\u001b[0m",
      "\u001b[1;31mMemoryError\u001b[0m                               Traceback (most recent call last)",
      "Cell \u001b[1;32mIn[18], line 1\u001b[0m\n\u001b[1;32m----> 1\u001b[0m cosine_distance_train \u001b[39m=\u001b[39m np\u001b[39m.\u001b[39marray([utils\u001b[39m.\u001b[39mcosine_distance(i,j) \u001b[39mfor\u001b[39;00m i, j \u001b[39min\u001b[39;00m \u001b[39mzip\u001b[39m(tfidf_vectorizer_train_q1,tfidf_vectorizer_train_q2)])\u001b[39m.\u001b[39mreshape(\u001b[39m-\u001b[39m\u001b[39m1\u001b[39m,\u001b[39m1\u001b[39m)\n\u001b[0;32m      2\u001b[0m cosine_distance_val \u001b[39m=\u001b[39m np\u001b[39m.\u001b[39marray([utils\u001b[39m.\u001b[39mcosine_distance(i,j) \u001b[39mfor\u001b[39;00m i, j \u001b[39min\u001b[39;00m \u001b[39mzip\u001b[39m(tfidf_vectorizer_val_q1,tfidf_vectorizer_val_q2)])\u001b[39m.\u001b[39mreshape(\u001b[39m-\u001b[39m\u001b[39m1\u001b[39m,\u001b[39m1\u001b[39m)\n\u001b[0;32m      4\u001b[0m cosine_distance_train \u001b[39m=\u001b[39m np\u001b[39m.\u001b[39mnan_to_num(cosine_distance_train, nan\u001b[39m=\u001b[39m\u001b[39m0.0\u001b[39m)\n",
      "Cell \u001b[1;32mIn[18], line 1\u001b[0m, in \u001b[0;36m<listcomp>\u001b[1;34m(.0)\u001b[0m\n\u001b[1;32m----> 1\u001b[0m cosine_distance_train \u001b[39m=\u001b[39m np\u001b[39m.\u001b[39marray([utils\u001b[39m.\u001b[39;49mcosine_distance(i,j) \u001b[39mfor\u001b[39;00m i, j \u001b[39min\u001b[39;00m \u001b[39mzip\u001b[39m(tfidf_vectorizer_train_q1,tfidf_vectorizer_train_q2)])\u001b[39m.\u001b[39mreshape(\u001b[39m-\u001b[39m\u001b[39m1\u001b[39m,\u001b[39m1\u001b[39m)\n\u001b[0;32m      2\u001b[0m cosine_distance_val \u001b[39m=\u001b[39m np\u001b[39m.\u001b[39marray([utils\u001b[39m.\u001b[39mcosine_distance(i,j) \u001b[39mfor\u001b[39;00m i, j \u001b[39min\u001b[39;00m \u001b[39mzip\u001b[39m(tfidf_vectorizer_val_q1,tfidf_vectorizer_val_q2)])\u001b[39m.\u001b[39mreshape(\u001b[39m-\u001b[39m\u001b[39m1\u001b[39m,\u001b[39m1\u001b[39m)\n\u001b[0;32m      4\u001b[0m cosine_distance_train \u001b[39m=\u001b[39m np\u001b[39m.\u001b[39mnan_to_num(cosine_distance_train, nan\u001b[39m=\u001b[39m\u001b[39m0.0\u001b[39m)\n",
      "File \u001b[1;32mc:\\Users\\Dario\\Desktop\\NLP\\NLP-Quora\\utils.py:132\u001b[0m, in \u001b[0;36mcosine_distance\u001b[1;34m(vector1, vector2)\u001b[0m\n\u001b[0;32m    130\u001b[0m     \u001b[39mreturn\u001b[39;00m \u001b[39m0.0\u001b[39m\n\u001b[0;32m    131\u001b[0m \u001b[39melse\u001b[39;00m:\n\u001b[1;32m--> 132\u001b[0m     dot_product \u001b[39m=\u001b[39m vector1\u001b[39m.\u001b[39;49mT\u001b[39m.\u001b[39;49mdot(vector2)\u001b[39m.\u001b[39;49mtoarray()[\u001b[39m0\u001b[39m][\u001b[39m0\u001b[39m]\n\u001b[0;32m    133\u001b[0m     \u001b[39mreturn\u001b[39;00m dot_product \u001b[39m/\u001b[39m (norm1 \u001b[39m*\u001b[39m norm2)\n",
      "File \u001b[1;32mc:\\Users\\Dario\\anaconda3\\envs\\quora_env\\lib\\site-packages\\scipy\\sparse\\_compressed.py:1051\u001b[0m, in \u001b[0;36m_cs_matrix.toarray\u001b[1;34m(self, order, out)\u001b[0m\n\u001b[0;32m   1049\u001b[0m \u001b[39mif\u001b[39;00m out \u001b[39mis\u001b[39;00m \u001b[39mNone\u001b[39;00m \u001b[39mand\u001b[39;00m order \u001b[39mis\u001b[39;00m \u001b[39mNone\u001b[39;00m:\n\u001b[0;32m   1050\u001b[0m     order \u001b[39m=\u001b[39m \u001b[39mself\u001b[39m\u001b[39m.\u001b[39m_swap(\u001b[39m'\u001b[39m\u001b[39mcf\u001b[39m\u001b[39m'\u001b[39m)[\u001b[39m0\u001b[39m]\n\u001b[1;32m-> 1051\u001b[0m out \u001b[39m=\u001b[39m \u001b[39mself\u001b[39;49m\u001b[39m.\u001b[39;49m_process_toarray_args(order, out)\n\u001b[0;32m   1052\u001b[0m \u001b[39mif\u001b[39;00m \u001b[39mnot\u001b[39;00m (out\u001b[39m.\u001b[39mflags\u001b[39m.\u001b[39mc_contiguous \u001b[39mor\u001b[39;00m out\u001b[39m.\u001b[39mflags\u001b[39m.\u001b[39mf_contiguous):\n\u001b[0;32m   1053\u001b[0m     \u001b[39mraise\u001b[39;00m \u001b[39mValueError\u001b[39;00m(\u001b[39m'\u001b[39m\u001b[39mOutput array must be C or F contiguous\u001b[39m\u001b[39m'\u001b[39m)\n",
      "File \u001b[1;32mc:\\Users\\Dario\\anaconda3\\envs\\quora_env\\lib\\site-packages\\scipy\\sparse\\_base.py:1298\u001b[0m, in \u001b[0;36mspmatrix._process_toarray_args\u001b[1;34m(self, order, out)\u001b[0m\n\u001b[0;32m   1296\u001b[0m     \u001b[39mreturn\u001b[39;00m out\n\u001b[0;32m   1297\u001b[0m \u001b[39melse\u001b[39;00m:\n\u001b[1;32m-> 1298\u001b[0m     \u001b[39mreturn\u001b[39;00m np\u001b[39m.\u001b[39;49mzeros(\u001b[39mself\u001b[39;49m\u001b[39m.\u001b[39;49mshape, dtype\u001b[39m=\u001b[39;49m\u001b[39mself\u001b[39;49m\u001b[39m.\u001b[39;49mdtype, order\u001b[39m=\u001b[39;49morder)\n",
      "\u001b[1;31mMemoryError\u001b[0m: Unable to allocate 41.7 GiB for an array with shape (74780, 74780) and data type float64"
     ]
    }
   ],
   "source": [
    "cosine_distance_train = np.array([utils.cosine_distance(i,j) for i, j in zip(tfidf_vectorizer_train_q1,tfidf_vectorizer_train_q2)]).reshape(-1,1)\n",
    "cosine_distance_val = np.array([utils.cosine_distance(i,j) for i, j in zip(tfidf_vectorizer_val_q1,tfidf_vectorizer_val_q2)]).reshape(-1,1)\n",
    "\n",
    "cosine_distance_train = np.nan_to_num(cosine_distance_train, nan=0.0)\n",
    "cosine_distance_val = np.nan_to_num(cosine_distance_val, nan=0.0)"
   ]
  },
  {
   "attachments": {},
   "cell_type": "markdown",
   "id": "b7b675db",
   "metadata": {},
   "source": [
    "# Embeddings"
   ]
  },
  {
   "cell_type": "code",
   "execution_count": null,
   "id": "a3a7ad0a",
   "metadata": {},
   "outputs": [],
   "source": [
    "all_tokens_train = utils.tokenize(all_train_questions)\n",
    "\n",
    "word2vec_train = utils.build_w2v_model(all_tokens_train, n_fueatures=300)\n",
    "tokens_train_q1 = utils.tokenize(q1_train)\n",
    "tokens_train_q2 = utils.tokenize(q2_train)\n",
    "tokens_val_q1 = utils.tokenize(q1_validation)\n",
    "tokens_val_q2 = utils.tokenize(q2_validation)\n",
    "\n",
    "embedings_train_q1 = utils.w2v_embedding(tokens_train_q1, word2vec_train)\n",
    "embedings_train_q2 = utils.w2v_embedding(tokens_train_q2, word2vec_train)\n",
    "\n",
    "all_tokens_val = utils.tokenize(q1_validation + q2_validation)\n",
    "\n",
    "word2vec_val = utils.build_w2v_model(all_tokens_val, n_fueatures=300)\n",
    "\n",
    "embedings_val_q1 = utils.w2v_embedding(tokens_val_q1, word2vec_val)\n",
    "embedings_val_q2 = utils.w2v_embedding(tokens_val_q2, word2vec_val)\n",
    "\n",
    "utils.save_model(word2vec_train, 'word2vec_train')\n",
    "utils.save_model(word2vec_val, 'word2vec_val')"
   ]
  },
  {
   "cell_type": "code",
   "execution_count": null,
   "id": "6d86fc09",
   "metadata": {},
   "outputs": [],
   "source": [
    "cosine_distance_embeddings_train = np.array([utils.cosine_distance(i,j) for i, j in \n",
    "                                  zip(embedings_train_q1,embedings_train_q2)]).reshape(-1,1)\n",
    "\n",
    "cosine_distance_embeddings_val = np.array([utils.cosine_distance(i,j) for i, j in \n",
    "                                  zip(embedings_val_q1,embedings_val_q2)]).reshape(-1,1)"
   ]
  },
  {
   "attachments": {},
   "cell_type": "markdown",
   "id": "34293fbb",
   "metadata": {},
   "source": [
    "## Comparing Words (keys ones and by order)"
   ]
  },
  {
   "cell_type": "code",
   "execution_count": 19,
   "id": "d7fd54b0",
   "metadata": {},
   "outputs": [],
   "source": [
    "kw_feature_train = utils.generate_key_words_feature(q1_train_tokens,q2_train_tokens)\n",
    "kw_feature_val = utils.generate_key_words_feature(q1_validation_tokens,q2_validation_tokens)"
   ]
  },
  {
   "cell_type": "code",
   "execution_count": 20,
   "id": "6026225d",
   "metadata": {},
   "outputs": [
    {
     "data": {
      "text/plain": [
       "(291897, 1)"
      ]
     },
     "execution_count": 20,
     "metadata": {},
     "output_type": "execute_result"
    }
   ],
   "source": [
    "kw_feature_train = np.array(kw_feature_train).reshape(-1,1)\n",
    "kw_feature_train.shape"
   ]
  },
  {
   "cell_type": "code",
   "execution_count": 21,
   "id": "e57b6bec",
   "metadata": {},
   "outputs": [
    {
     "name": "stdout",
     "output_type": "stream",
     "text": [
      "['what', 'do', 'hate', 'about', 'toptal', 's', 'interviewing', 'process']\n",
      "['need', 'indian', 'representative', 'supply', 'raw', 'materials', 'pharmaceutical', 'products', 'company', 'roger', 'rene957', 'yahoo', 'com', 'bst', 'rgd', 'rene']\n",
      "0\n",
      "[0]\n"
     ]
    }
   ],
   "source": [
    "print(q1_train_tokens[20])\n",
    "print(q2_train_tokens[20])\n",
    "print(tr_df[\"is_duplicate\"].values[20])\n",
    "print(kw_feature_train[20])"
   ]
  },
  {
   "cell_type": "code",
   "execution_count": 22,
   "id": "8a5bb64b",
   "metadata": {},
   "outputs": [
    {
     "name": "stdout",
     "output_type": "stream",
     "text": [
      "['what', 'was', 'best', 'day', 'life', 'excluding', 'family', 'things', 'like', 'births']\n",
      "['what', 'is', 'best', 'day', 'life', 'till', 'date']\n",
      "1\n",
      "[1]\n"
     ]
    }
   ],
   "source": [
    "print(q1_train_tokens[3])\n",
    "print(q2_train_tokens[3])\n",
    "print(tr_df[\"is_duplicate\"].values[3])\n",
    "print(kw_feature_train[3])"
   ]
  },
  {
   "cell_type": "code",
   "execution_count": 23,
   "id": "aefd30ad",
   "metadata": {},
   "outputs": [
    {
     "data": {
      "text/plain": [
       "(291897, 1)"
      ]
     },
     "execution_count": 23,
     "metadata": {},
     "output_type": "execute_result"
    }
   ],
   "source": [
    "ow_feature_train = utils.generate_ordered_words_feature(q1_train_tokens,q2_train_tokens)\n",
    "ow_feature_val = utils.generate_ordered_words_feature(q1_validation_tokens,q2_validation_tokens)\n",
    "\n",
    "ow_feature_train = np.array(ow_feature_train).reshape(-1,1)\n",
    "ow_feature_train.shape"
   ]
  },
  {
   "cell_type": "code",
   "execution_count": 24,
   "id": "980b99e4",
   "metadata": {},
   "outputs": [
    {
     "name": "stdout",
     "output_type": "stream",
     "text": [
      "['where', 'can', 'buy', 'used', 'wine', 'barrels']\n",
      "['where', 'can', 'buy', 'used', 'wine', 'barrels']\n",
      "1\n",
      "[1.]\n",
      "['what', 'was', 'best', 'day', 'life', 'excluding', 'family', 'things', 'like', 'births']\n",
      "['what', 'is', 'best', 'day', 'life', 'till', 'date']\n",
      "1\n",
      "[0.57142857]\n"
     ]
    }
   ],
   "source": [
    "print(q1_train_tokens[2])\n",
    "print(q2_train_tokens[2])\n",
    "print(tr_df[\"is_duplicate\"].values[2])\n",
    "print(ow_feature_train[2])\n",
    "print(q1_train_tokens[3])\n",
    "print(q2_train_tokens[3])\n",
    "print(tr_df[\"is_duplicate\"].values[3])\n",
    "print(ow_feature_train[3])"
   ]
  },
  {
   "attachments": {},
   "cell_type": "markdown",
   "id": "fe04fda6",
   "metadata": {},
   "source": [
    "## Negation"
   ]
  },
  {
   "cell_type": "code",
   "execution_count": 23,
   "id": "c3b037d4",
   "metadata": {},
   "outputs": [
    {
     "name": "stderr",
     "output_type": "stream",
     "text": [
      "100%|██████████| 291897/291897 [56:50<00:00, 85.59it/s]  \n",
      "100%|██████████| 15363/15363 [03:10<00:00, 80.77it/s] \n"
     ]
    },
    {
     "data": {
      "text/plain": [
       "(291897, 1)"
      ]
     },
     "execution_count": 23,
     "metadata": {},
     "output_type": "execute_result"
    }
   ],
   "source": [
    "neg_feature_train = utils.generate_negation_feature(q1_train,q2_train)\n",
    "neg_feature_val = utils.generate_negation_feature(q1_validation,q2_validation)\n",
    "\n",
    "neg_feature_train = np.array(neg_feature_train).reshape(-1,1)\n",
    "neg_feature_train.shape"
   ]
  },
  {
   "cell_type": "code",
   "execution_count": 32,
   "id": "66d93210",
   "metadata": {},
   "outputs": [
    {
     "name": "stdout",
     "output_type": "stream",
     "text": [
      "where can  buy used wine barrels?\n",
      "where can  buy used wine barrels?\n",
      "1\n",
      "[1]\n"
     ]
    }
   ],
   "source": [
    "print(q1_train[2])\n",
    "print(q2_train[2])\n",
    "print(tr_df[\"is_duplicate\"].values[2])\n",
    "print(neg_feature_train[2])"
   ]
  },
  {
   "cell_type": "code",
   "execution_count": 33,
   "id": "fd67dc41",
   "metadata": {},
   "outputs": [
    {
     "name": "stdout",
     "output_type": "stream",
     "text": [
      "can someone still get  message  snapchat if  haven't read  yet   deactivated  account?\n",
      "if  block someone  snapchat will  still see  last message  sent?\n",
      "0\n",
      "[0]\n"
     ]
    }
   ],
   "source": [
    "print(q1_train[27])\n",
    "print(q2_train[27])\n",
    "print(tr_df[\"is_duplicate\"].values[27])\n",
    "print(neg_feature_train[27])"
   ]
  },
  {
   "cell_type": "markdown",
   "id": "e3980b25-60c0-4a61-874f-89d7b2a267ae",
   "metadata": {},
   "source": [
    "## Training a logistic model"
   ]
  },
  {
   "cell_type": "code",
   "execution_count": 60,
   "id": "ba9a40e3-af72-432b-a976-502453306aad",
   "metadata": {},
   "outputs": [
    {
     "data": {
      "text/plain": [
       "(291897, 149562)"
      ]
     },
     "execution_count": 60,
     "metadata": {},
     "output_type": "execute_result"
    }
   ],
   "source": [
    "#Concatenate here all your features, bros\n",
    "X_tr = scipy.sparse.hstack((jd_feature_train, tfidf_train, ow_feature_train, cosine_distance_train, embedings_train_q1, embedings_train_q2, cosine_distance_embeddings_train))\n",
    "\n",
    "X_tr.shape"
   ]
  },
  {
   "cell_type": "code",
   "execution_count": 61,
   "id": "c32f6633-f019-4138-b991-a02bb857d4a6",
   "metadata": {},
   "outputs": [
    {
     "data": {
      "text/html": [
       "<style>#sk-container-id-7 {color: black;background-color: white;}#sk-container-id-7 pre{padding: 0;}#sk-container-id-7 div.sk-toggleable {background-color: white;}#sk-container-id-7 label.sk-toggleable__label {cursor: pointer;display: block;width: 100%;margin-bottom: 0;padding: 0.3em;box-sizing: border-box;text-align: center;}#sk-container-id-7 label.sk-toggleable__label-arrow:before {content: \"▸\";float: left;margin-right: 0.25em;color: #696969;}#sk-container-id-7 label.sk-toggleable__label-arrow:hover:before {color: black;}#sk-container-id-7 div.sk-estimator:hover label.sk-toggleable__label-arrow:before {color: black;}#sk-container-id-7 div.sk-toggleable__content {max-height: 0;max-width: 0;overflow: hidden;text-align: left;background-color: #f0f8ff;}#sk-container-id-7 div.sk-toggleable__content pre {margin: 0.2em;color: black;border-radius: 0.25em;background-color: #f0f8ff;}#sk-container-id-7 input.sk-toggleable__control:checked~div.sk-toggleable__content {max-height: 200px;max-width: 100%;overflow: auto;}#sk-container-id-7 input.sk-toggleable__control:checked~label.sk-toggleable__label-arrow:before {content: \"▾\";}#sk-container-id-7 div.sk-estimator input.sk-toggleable__control:checked~label.sk-toggleable__label {background-color: #d4ebff;}#sk-container-id-7 div.sk-label input.sk-toggleable__control:checked~label.sk-toggleable__label {background-color: #d4ebff;}#sk-container-id-7 input.sk-hidden--visually {border: 0;clip: rect(1px 1px 1px 1px);clip: rect(1px, 1px, 1px, 1px);height: 1px;margin: -1px;overflow: hidden;padding: 0;position: absolute;width: 1px;}#sk-container-id-7 div.sk-estimator {font-family: monospace;background-color: #f0f8ff;border: 1px dotted black;border-radius: 0.25em;box-sizing: border-box;margin-bottom: 0.5em;}#sk-container-id-7 div.sk-estimator:hover {background-color: #d4ebff;}#sk-container-id-7 div.sk-parallel-item::after {content: \"\";width: 100%;border-bottom: 1px solid gray;flex-grow: 1;}#sk-container-id-7 div.sk-label:hover label.sk-toggleable__label {background-color: #d4ebff;}#sk-container-id-7 div.sk-serial::before {content: \"\";position: absolute;border-left: 1px solid gray;box-sizing: border-box;top: 0;bottom: 0;left: 50%;z-index: 0;}#sk-container-id-7 div.sk-serial {display: flex;flex-direction: column;align-items: center;background-color: white;padding-right: 0.2em;padding-left: 0.2em;position: relative;}#sk-container-id-7 div.sk-item {position: relative;z-index: 1;}#sk-container-id-7 div.sk-parallel {display: flex;align-items: stretch;justify-content: center;background-color: white;position: relative;}#sk-container-id-7 div.sk-item::before, #sk-container-id-7 div.sk-parallel-item::before {content: \"\";position: absolute;border-left: 1px solid gray;box-sizing: border-box;top: 0;bottom: 0;left: 50%;z-index: -1;}#sk-container-id-7 div.sk-parallel-item {display: flex;flex-direction: column;z-index: 1;position: relative;background-color: white;}#sk-container-id-7 div.sk-parallel-item:first-child::after {align-self: flex-end;width: 50%;}#sk-container-id-7 div.sk-parallel-item:last-child::after {align-self: flex-start;width: 50%;}#sk-container-id-7 div.sk-parallel-item:only-child::after {width: 0;}#sk-container-id-7 div.sk-dashed-wrapped {border: 1px dashed gray;margin: 0 0.4em 0.5em 0.4em;box-sizing: border-box;padding-bottom: 0.4em;background-color: white;}#sk-container-id-7 div.sk-label label {font-family: monospace;font-weight: bold;display: inline-block;line-height: 1.2em;}#sk-container-id-7 div.sk-label-container {text-align: center;}#sk-container-id-7 div.sk-container {/* jupyter's `normalize.less` sets `[hidden] { display: none; }` but bootstrap.min.css set `[hidden] { display: none !important; }` so we also need the `!important` here to be able to override the default hidden behavior on the sphinx rendered scikit-learn.org. See: https://github.com/scikit-learn/scikit-learn/issues/21755 */display: inline-block !important;position: relative;}#sk-container-id-7 div.sk-text-repr-fallback {display: none;}</style><div id=\"sk-container-id-7\" class=\"sk-top-container\"><div class=\"sk-text-repr-fallback\"><pre>LogisticRegression(random_state=123, solver=&#x27;liblinear&#x27;)</pre><b>In a Jupyter environment, please rerun this cell to show the HTML representation or trust the notebook. <br />On GitHub, the HTML representation is unable to render, please try loading this page with nbviewer.org.</b></div><div class=\"sk-container\" hidden><div class=\"sk-item\"><div class=\"sk-estimator sk-toggleable\"><input class=\"sk-toggleable__control sk-hidden--visually\" id=\"sk-estimator-id-7\" type=\"checkbox\" checked><label for=\"sk-estimator-id-7\" class=\"sk-toggleable__label sk-toggleable__label-arrow\">LogisticRegression</label><div class=\"sk-toggleable__content\"><pre>LogisticRegression(random_state=123, solver=&#x27;liblinear&#x27;)</pre></div></div></div></div></div>"
      ],
      "text/plain": [
       "LogisticRegression(random_state=123, solver='liblinear')"
      ]
     },
     "execution_count": 61,
     "metadata": {},
     "output_type": "execute_result"
    }
   ],
   "source": [
    "logistic_improved = sklearn.linear_model.LogisticRegression(solver=\"liblinear\", random_state=123)\n",
    "y_train = tr_df[\"is_duplicate\"].values\n",
    "logistic_improved.fit(X_tr, y_train)"
   ]
  },
  {
   "cell_type": "code",
   "execution_count": 62,
   "id": "6d5f2521-d18e-4b3f-944c-00ff8d865161",
   "metadata": {},
   "outputs": [
    {
     "data": {
      "text/plain": [
       "0.821368496421683"
      ]
     },
     "execution_count": 62,
     "metadata": {},
     "output_type": "execute_result"
    }
   ],
   "source": [
    "metrics.accuracy_score(y_train, logistic_improved.predict(X_tr))"
   ]
  },
  {
   "cell_type": "code",
   "execution_count": 37,
   "id": "7adb6b38",
   "metadata": {},
   "outputs": [],
   "source": [
    "jd_feature_val = np.array(jd_feature_val).reshape(-1,1)\n",
    "kw_feature_val = np.array(kw_feature_val).reshape(-1,1)\n",
    "ow_feature_val = np.array(ow_feature_val).reshape(-1,1)"
   ]
  },
  {
   "cell_type": "code",
   "execution_count": 63,
   "id": "59e46421",
   "metadata": {},
   "outputs": [],
   "source": [
    "X_val = scipy.sparse.hstack((jd_feature_val, tfidf_val, ow_feature_val, cosine_distance_val, embedings_val_q1, embedings_val_q2, cosine_distance_embeddings_val))\n",
    "y_val = va_df[\"is_duplicate\"].values"
   ]
  },
  {
   "cell_type": "code",
   "execution_count": 64,
   "id": "02b7a56d",
   "metadata": {},
   "outputs": [
    {
     "data": {
      "text/plain": [
       "0.7907309770227169"
      ]
     },
     "execution_count": 64,
     "metadata": {},
     "output_type": "execute_result"
    }
   ],
   "source": [
    "metrics.accuracy_score(y_val, logistic_improved.predict(X_val))"
   ]
  },
  {
   "cell_type": "code",
   "execution_count": 67,
   "id": "560e119a",
   "metadata": {},
   "outputs": [
    {
     "name": "stdout",
     "output_type": "stream",
     "text": [
      "How is web-work.in works?\n",
      "How do I get web designing work?\n",
      "true class: 0\n",
      "prediction: 1\n"
     ]
    }
   ],
   "source": [
    "mistake_indices_tr, predictions_tr = utils.get_mistakes(logistic_improved, X_tr,  y_train)\n",
    "\n",
    "utils.print_mistake_k(0, tr_df, mistake_indices_tr, predictions_tr)"
   ]
  },
  {
   "cell_type": "code",
   "execution_count": 68,
   "id": "eec5fb4a-888e-47a7-b955-abb76ebe2e2a",
   "metadata": {},
   "outputs": [],
   "source": [
    "try:\n",
    "    # open file descriptor for writing\n",
    "    logistic_file = open('model_artifacts/logistic_imp.pkl', 'wb')\n",
    "    # serialize and write object to file\n",
    "    pickle.dump(logistic_improved, logistic_file)\n",
    "    # close file descriptor\n",
    "    logistic_file.close()\n",
    "except OSError as e:\n",
    "    if e.errno != errno.EEXIST:\n",
    "        raise"
   ]
  },
  {
   "cell_type": "code",
   "execution_count": null,
   "id": "6e93b822-44c2-4c15-94a8-8c9e953f73fc",
   "metadata": {},
   "outputs": [],
   "source": []
  }
 ],
 "metadata": {
  "kernelspec": {
   "display_name": "Python 3 (ipykernel)",
   "language": "python",
   "name": "python3"
  },
  "language_info": {
   "codemirror_mode": {
    "name": "ipython",
    "version": 3
   },
   "file_extension": ".py",
   "mimetype": "text/x-python",
   "name": "python",
   "nbconvert_exporter": "python",
   "pygments_lexer": "ipython3",
   "version": "3.9.16"
  }
 },
 "nbformat": 4,
 "nbformat_minor": 5
}
